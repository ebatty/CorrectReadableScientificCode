{
 "nbformat": 4,
 "nbformat_minor": 0,
 "metadata": {
  "colab": {
   "provenance": [],
   "authorship_tag": "ABX9TyNHMbntIgQMirU+tDREyizv"
  },
  "kernelspec": {
   "name": "python3",
   "display_name": "Python 3"
  },
  "language_info": {
   "name": "python"
  }
 },
 "cells": [
  {
   "cell_type": "markdown",
   "source": [
    "# Mini-unit #1: Why spend the time?"
   ],
   "metadata": {
    "id": "dmhhxjoS7UiU"
   }
  },
  {
   "cell_type": "markdown",
   "source": [
    "## Brainstorming Exercise\n",
    "\n",
    "Please reflect on the following questions one at a time. If completing this with others, please take a few minutes to brainstorm by yourselves for each question and then discuss.\n",
    "\n",
    "\n",
    "1. Have you ever been able to quickly use and adapt someone else's code? How did it affect your research progress? What helped you quickly use it?\n",
    "\n",
    "2. Have you ever had trouble using someone else’s code, or using your own after some time away from it? How did it affect your research progress? Why did you encounter difficulties?\n",
    "\n",
    "3. How could writing organized and readable code, ensuring it is correct, and sharing in a usable format affect your scientific endeavours and science in general? Do you worry that taking the time to do this will slow you down?\n",
    "\n",
    "Type your thoughts in the text box below.\n",
    "\n",
    "<textarea name=\"comments\" id=\"comments\">\n",
    "...\n",
    "</textarea><br />\n",
    "<input type=\"submit\" value=\"Submit\" />"
   ],
   "metadata": {
    "id": "9Zek2HPZ7ZN3"
   }
  },
  {
   "cell_type": "markdown",
   "source": [
    "## Video Script: Short vignettes with scientists\n",
    "\n",
    "*This is an example script for illustrative purposes. I'd like to have actual interviews/examples with real people*\n",
    "\n",
    "**Scientist 1:**\n",
    "\n",
    "Sarah: Hello, I'm Sarah. My research is on [insert research]. I use coding a lot in my research. When I started out, I was new to coding and so didn't ensure my code was organized and readable. I wasted so much time going back and figuring out what I was doing a few weeks before in a section of code! My code became a tangled and stressful mess that I hated interacting with. I decided to learn more about how to write clean code. Clean code is code that is understandable, readable, and organized.  Prioritizing this made such a difference! My code is now much easier to understand, which means it's easier to make changes to and easier to catch errors (as I can reason through things). I enjoy coding a lot more now and feel more confident in my research.\n",
    "\n",
    "Interviewer: Does implementing good coding practices ever slow you down and negatively affect your progress in research? Did you encounter any other difficulties?\n",
    "\n",
    "Sarah: Yes, writing code in a good way can take a bit more time. But I'm very confident that I more than make up for that lost time by the saved time later in the project when I'm not struggling to understand or make changes to my code.\n",
    "\n",
    "Interviewer: Any advice for people looking to improve their coding practices to achieve cleaner code?\n",
    "\n",
    "It takes time to learn how to write clean code. Luckily, there are some pretty clear guidelines to follow but after learning these, it takes practice to get used to it and for it to come more naturally. Don't let perfection be the enemy of good - keep making improvements to your code as you can and you will improve your skills over time!\n",
    "\n",
    "**Scientist 2:**\n",
    "\n",
    "It'd be great to interview someone involved with this: https://www.scienceathome.org/community/blog/a-mistake-in-numerical-codes/. This interview should focus on someone who did make a mistake in their code and it affected their results, and what they've changed since. In that blog, they mention they now use industry-standard software testing procedures.\n",
    "\n",
    "\n",
    "**Scientist 3:**\n",
    "\n",
    "Tim: Hello, I'm Tim. I research [insert research here]. I'm a big advocate for open science and release code with all of my papers.\n",
    "\n",
    "Interviewer: What motivates you to do this?\n",
    "\n",
    "Tim: I think it's critical for science! It's rare that another person could replicate an analysis or model from a methods section alone.  If I release the analysis code for my paper, that means other scientists can see exactly what I did, build more easily on my work, and use the code as a starting point for their own work. What's the point of a bunch of scientists wasting a bunch of time writing very similar code?\n",
    "\n",
    "Any shared code is good but it's much better if you are sharing organized and readable code. It's more likely someone will actually be able to use it.\n",
    "\n",
    "**Overview of unit by Ella (following vignettes):**\n",
    "\n",
    "Hello, I'm Ella. [introduce myself and give background of unit]\n",
    "\n",
    "You've just heard from several scientists about why they prioritize writing readable and organized code, checking their code for errors, and sharing their code. Hopefully, you're here because you want to do the same! Doing this helps you, helps your collaborators, and helps science in general!\n",
    "\n",
    "In this unit, you will learn best practices for how to do this. The next three mini-units focus on guidelines for writing clean scripts,good functions, and how to structure your code overall. After this, you'll learn how to test your code for correctness and think through how you share your code."
   ],
   "metadata": {
    "id": "PM9QXi0J8T0A"
   }
  }
 ]
}