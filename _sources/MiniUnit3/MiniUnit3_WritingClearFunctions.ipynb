{
 "nbformat": 4,
 "nbformat_minor": 0,
 "metadata": {
  "colab": {
   "provenance": [],
   "toc_visible": true,
   "authorship_tag": "ABX9TyMsvT9vQrKhZCl2vm9XpXj2"
  },
  "kernelspec": {
   "name": "python3",
   "display_name": "Python 3"
  },
  "language_info": {
   "name": "python"
  }
 },
 "cells": [
  {
   "cell_type": "markdown",
   "source": [
    "# Mini-unit #3: Writing Functions\n",
    "\n",
    "In this mini-unit, you'll learn how to write clear function, and be motivated to do so!"
   ],
   "metadata": {
    "id": "06M1ELyMk_nF"
   }
  },
  {
   "cell_type": "markdown",
   "source": [
    "## Why use functions?"
   ],
   "metadata": {
    "id": "kp5rmsGPslxQ"
   }
  },
  {
   "cell_type": "markdown",
   "source": [
    "### Brainstorming Exercise\n",
    "\n",
    "*Might remove this if the mini-unit is too long*\n",
    "\n",
    "Please reflect on the following questions one at a time. If completing this with others, please take a few minutes to brainstorm by yourselves for each question and then discuss.\n",
    "\n",
    "- What are some advantages of using functions in code?\n",
    "- Any initial thoughts as to general practices that might ensure each function is clear and useful? No worries if not - you'll learn about this in this mini-unit!\n",
    "\n",
    "<textarea name=\"comments\" id=\"comments\">\n",
    "...\n",
    "</textarea><br />\n",
    "<input type=\"submit\" value=\"Submit\" />"
   ],
   "metadata": {
    "id": "kUpALKfOlk-v"
   }
  },
  {
   "cell_type": "code",
   "source": [],
   "metadata": {
    "id": "Eh6ps4-zrgLW"
   },
   "execution_count": null,
   "outputs": []
  },
  {
   "cell_type": "markdown",
   "source": [
    "### Video\n",
    "\n",
    "Overview: Voice-over with handwritten notes. Purpose is to motivate using functions\n",
    "\n",
    "\n",
    "Script:\n",
    "\n",
    "Functional programming is type of programming where you structure code around functions. I personally experienced a huge jump in the usability of my code when I moved from primarily using long scripts to prioritizing functions. There are a couple big advantages of using functions. One is that you are ensuring you can re-use your own code more easily! Instead of copying and pasting snippets of code if you're doing the same computation in different parts of your code, you can call the same function multiple times. This also ensures you're following a key coding principle: DRY, which means don't repeat yourself.\n",
    "\n",
    "Functions also can make the flow of your code clearer. Compare this long script to code that performs the same thing but that calls functions. It's much quicker to read the shorter script that calls functions. You can always go look in those functions if you want to see all the details, but often you won't need to as you can tell what it is doing from the name!\n",
    "\n",
    "Using functions also allows you to better test your code. You can test that each function is correct and does what it should, which is more manageable than testing a whole long script. We'll return to this idea in the later mini-unit on testing code.\n"
   ],
   "metadata": {
    "id": "wAG8F-_vnuW3"
   }
  },
  {
   "cell_type": "code",
   "source": [],
   "metadata": {
    "id": "NjraG3TLltS9"
   },
   "execution_count": null,
   "outputs": []
  },
  {
   "cell_type": "markdown",
   "source": [
    "## How do you write a clear and good function?\n",
    "\n",
    "So, now you're motivated to write some functions in your code! But how do you make sure your function is a good function? What is a good function? Luckily, there are some guidelines to follow around this! Click on each cleaning product below to learn about a best practice to ensure clean functions."
   ],
   "metadata": {
    "id": "2s3tt-NlsqTB"
   }
  },
  {
   "cell_type": "markdown",
   "source": [
    "Bucket title \"Good functions\" with cleaning products sticking out of it. Ideally, you can click on each one to open up one of the following sections below it. This would make it more interactive/fun and would avoid a really long notebook."
   ],
   "metadata": {
    "id": "DvwymYAeq3gX"
   }
  },
  {
   "cell_type": "markdown",
   "source": [
    "### Keep it single-purpose\n",
    "\n",
    "*Each of these will be a short (1 minute) handwritten video with voice over. The text will also appear below as a dropdown recap of the video*\n",
    "\n",
    "Each function should do exactly one thing and one thing only. This is known as the [single-responsibilty principle](https://en.wikipedia.org/wiki/Single-responsibility_principle).\n",
    "\n",
    "A good test of whether a function is single purpose is whether you can succintly summarize what the function does without using the word and. If it does more than one thing, you should split it up!\n",
    "\n",
    "Possible single things that a function could do include computing a single quantity, plotting a quantity, loading in data, and saving outputs.\n",
    "\n",
    "Keeping functions single-purpose means they are more re-usable, easier to reason about, and easier to test, and it keeps your code more organized and clear.\n",
    "\n"
   ],
   "metadata": {
    "id": "hl_AeTBksdoi"
   }
  },
  {
   "cell_type": "markdown",
   "source": [
    "Exercise\n",
    "\n",
    "Take a look at each of the following functions. Are they single-purpose? If not, outline how you would split it into multiple functions that are single-purpose.\n",
    "\n",
    "*Note to CENTER: This could be made more aesthetically pleasing with more of a flashcard interactive style if possible. Each code snippet on one panel and you click on it to flip it over and see the answer*\n",
    "\n",
    "Example A:\n",
    "\n",
    "\n",
    "```\n",
    "def load_and_plot_data(data):\n",
    "\n",
    "    # Load spikes\n",
    "\n",
    "\n",
    "\n",
    "\n",
    "```\n",
    "\n",
    "Solution:\n",
    "\n",
    "Example B:\n",
    "\n",
    "```\n",
    "def\n",
    "```\n",
    "\n",
    "Example C:"
   ],
   "metadata": {
    "id": "qzhE561byGqd"
   }
  },
  {
   "cell_type": "markdown",
   "source": [
    "### Keep it short\n",
    "\n",
    "Functions should be short. Robert Martin in Clean Code argues that functions should rarely be more than 20 lines of code. The reasons to keep functions short are similar to those for keeping functions single-purpose: a short function is easier to understand, reason about, and test.\n",
    "\n",
    "As a bonus, keeping functions short often helps you keep them single-purpose and vice versa.\n",
    "\n",
    "[Needs workshopping] Note there is a bit of debate around really short functions - Robert Martin advocates that functions can be as short as 3 lines of code, but others point out that this can make code more difficult to read if you constantly have to go find those functions to understand the code. This is a good reminder that these are guidelines rather than hard and fast rules!\n",
    "\n"
   ],
   "metadata": {
    "id": "1DSSwO4HxpKf"
   }
  },
  {
   "cell_type": "markdown",
   "source": [
    "### Name it well\n",
    "\n",
    "Remember in the last mini-unit when you learned how important it is to choose good variable names? It is just as important to name functions well! A user of the code should be able to tell what the function does by its name. This ensures that you can read the main script that calls functions and still understand what is happening from the name, without having to go find the function code and look at it.\n",
    "\n",
    "Function names should follow many of the same guidelines as variable names: they should be informative, consistent, pronounceable, searchable, distinct, and follow your code language's style guide. There is one important difference - function names should be verbs, not nouns. This is because functions do things!\n",
    "\n",
    "\n",
    "As a bonus, the process of writing a descriptive function name often flags if it is not single purpose. If you are writing a function name and it has `and` in it, the function is probably not single purpose as it is doing two things!\n",
    "\n",
    "\n"
   ],
   "metadata": {
    "id": "B9zGJLlvx1lO"
   }
  },
  {
   "cell_type": "markdown",
   "source": [
    "**Exercise**\n",
    "\n",
    "Below, we define a few functions and then call them from a main script. Without changing any code, re-name the functions both where they are defined and where they are called in the main script.  "
   ],
   "metadata": {
    "id": "83FESD8YIiU3"
   }
  },
  {
   "cell_type": "code",
   "source": [
    "# example"
   ],
   "metadata": {
    "id": "-jv0ahEkI_8Y"
   },
   "execution_count": null,
   "outputs": []
  },
  {
   "cell_type": "markdown",
   "source": [
    "**Reflection:** Which version, the original or solution, is easier to quickly read and understand?"
   ],
   "metadata": {
    "id": "N0TD5odCIzq5"
   }
  },
  {
   "cell_type": "markdown",
   "source": [
    "### Avoid side-effects\n",
    "\n"
   ],
   "metadata": {
    "id": "P0ZqRfeayCB7"
   }
  },
  {
   "cell_type": "markdown",
   "source": [
    "### Write a docstring\n",
    "\n",
    "In Python, functions are documented using strings that appear right after its definition. There are different styles for how to write this docstrings, among the most popular are the [Google style](https://github.com/google/styleguide/blob/gh-pages/pyguide.md#38-comments-and-docstrings), the [Numpy style](), and the [reStructuredText style](https://sphinx-rtd-tutorial.readthedocs.io/en/latest/docstrings.html). We'll cover the Google style, of which you can find more examples [here](https://sphinxcontrib-napoleon.readthedocs.io/en/latest/example_google.html). You are welcome to choose whatever style suits you best though - they're quite similar in terms of content.\n",
    "\n",
    "In the cell belo, we have a function that computes the volume of a cone, with  a Google style docstring.\n",
    "\n",
    "As you can see, a Google style docstring is wrapped in triple quotes \"\"\". It has a brief description next to the first set of triple quotes. Under \"Args\", you list the arguments by name, including their required data type (if any) and a brief description. Under \"Returns\", you describe what is returned, including the data type and a brief description. You can optionally include examples to illustrate how to use the function.\n",
    "\n"
   ],
   "metadata": {
    "id": "ceegRqOex3AS"
   }
  },
  {
   "cell_type": "code",
   "source": [
    "import math\n",
    "def calculate_cone_volume(radius, height):\n",
    "  \"\"\"Calculate the volume of a cone\n",
    "\n",
    "  Args:\n",
    "    radius (float): the radius of the bottom circle of the cone\n",
    "    height (float): the height of the cone (from bottom circle up to point)\n",
    "\n",
    "  Returns:\n",
    "    float: The volume of the cone.\n",
    "\n",
    "  Example:\n",
    "      >>> calculate_cone_volume(3, 7)\n",
    "      65.9734\n",
    "\n",
    "  \"\"\"\n",
    "  return (1/3) * math.pi * radius**2 * height"
   ],
   "metadata": {
    "id": "x_Q5IuQFYvvc"
   },
   "execution_count": 2,
   "outputs": []
  },
  {
   "cell_type": "markdown",
   "source": [
    "Writing a docstring is better than just standard comments because Python expects docstrings, which means there are some cool things you can do! For example, you can use the command `help` with your function name to quickly see the doc string"
   ],
   "metadata": {
    "id": "tqym76OzsOIP"
   }
  },
  {
   "cell_type": "code",
   "source": [
    "help(calculate_cone_volume)"
   ],
   "metadata": {
    "colab": {
     "base_uri": "https://localhost:8080/"
    },
    "id": "5QR1I69OZ4mR",
    "outputId": "824617ab-87a8-4e83-cfc1-c822eb14a80d"
   },
   "execution_count": 3,
   "outputs": [
    {
     "output_type": "stream",
     "name": "stdout",
     "text": [
      "Help on function calculate_cone_volume in module __main__:\n",
      "\n",
      "calculate_cone_volume(radius, height)\n",
      "    Calculate the volume of a cone\n",
      "    \n",
      "    Args:\n",
      "      radius (float): the radius of the bottom circle of the cone\n",
      "      height (float): the height of the cone (from bottom circle up to point)\n",
      "    \n",
      "    Returns:\n",
      "      float: The volume of the cone.\n",
      "    \n",
      "    Example:\n",
      "        >>> calculate_cone_volume(3, 7)\n",
      "        65.9734\n",
      "\n"
     ]
    }
   ]
  },
  {
   "cell_type": "markdown",
   "source": [
    "**Exercise**\n",
    "\n",
    "Write a Google style doc string for the function below"
   ],
   "metadata": {
    "id": "WYLPxto2suyW"
   }
  },
  {
   "cell_type": "code",
   "source": [],
   "metadata": {
    "id": "zBz0VqBZtLTW"
   },
   "execution_count": null,
   "outputs": []
  },
  {
   "cell_type": "markdown",
   "source": [
    "## Coding Exercise: Translating a script to clear functions\n",
    "\n",
    "Take this analysis script, which you cleaned up already in mini unit 2, and split it into functions that are called in a main script below those functions. Use all the best practices you just learned, including writing docstrings for the functions!"
   ],
   "metadata": {
    "id": "CYEHvq1TJIVd"
   }
  },
  {
   "cell_type": "code",
   "source": [],
   "metadata": {
    "id": "5K4F5FnCJLN0"
   },
   "execution_count": null,
   "outputs": []
  }
 ]
}