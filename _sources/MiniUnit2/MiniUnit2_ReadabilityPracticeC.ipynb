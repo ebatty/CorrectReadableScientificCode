{
 "nbformat": 4,
 "nbformat_minor": 0,
 "metadata": {
  "colab": {
   "provenance": [],
   "authorship_tag": "ABX9TyO3Cdz1Sc9c+JnMYzAvS9qH"
  },
  "kernelspec": {
   "name": "python3",
   "display_name": "Python 3"
  },
  "language_info": {
   "name": "python"
  }
 },
 "cells": [
  {
   "cell_type": "markdown",
   "source": [
    "# Know your language &amp; be consistent\n",
    "\n",
    "*This section is a very recent addition so is less complete than the rest of the unit*"
   ],
   "metadata": {
    "id": "58no3PZBtorB"
   }
  },
  {
   "cell_type": "markdown",
   "source": [
    "## Video\n",
    "\n",
    "Similar to the other videos with hand-written notes and voice-over.\n",
    "\n",
    "Notes:\n",
    "\n",
    "Be consistent!\n",
    "\n",
    "Why?\n",
    "\n",
    "  -> Reduces cognitive load of code readers (including you!). There are clear predictable patterns\n",
    "\n",
    "How\n",
    "\n",
    "  -> with yourself. Don't change how you do similar things throughout your code. Pick one way and stick to it\n",
    "\n",
    "  -> with your coding language.\n",
    "\n",
    "        * Follow the style guide (talk about PEP8 for Python). Mention optional add-on section about linters.\n",
    "\n",
    "        * Use Pythonic ways of doing things. Cover using existing functions instead of writing your own, f-strings, enumerate, vectorization, etc\n",
    "\n"
   ],
   "metadata": {
    "id": "jySWj2YltrgI"
   }
  },
  {
   "cell_type": "markdown",
   "source": [
    "## Interactive Exercise: Putting it into practice"
   ],
   "metadata": {
    "id": "L5vo1zIRvGTK"
   }
  },
  {
   "cell_type": "code",
   "execution_count": null,
   "metadata": {
    "id": "VO3kw-10tEeq"
   },
   "outputs": [],
   "source": []
  }
 ]
}