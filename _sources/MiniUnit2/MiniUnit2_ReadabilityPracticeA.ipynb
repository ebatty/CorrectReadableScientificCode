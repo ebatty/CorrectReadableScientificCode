{
 "nbformat": 4,
 "nbformat_minor": 0,
 "metadata": {
  "colab": {
   "provenance": [],
   "toc_visible": true,
   "authorship_tag": "ABX9TyMAo6Ok2ERfIHPg9ZNO2Nlt"
  },
  "kernelspec": {
   "name": "python3",
   "display_name": "Python 3"
  },
  "language_info": {
   "name": "python"
  },
  "widgets": {
   "application/vnd.jupyter.widget-state+json": {
    "282509cb9fe54422b21a3231749b4da6": {
     "model_module": "@jupyter-widgets/controls",
     "model_name": "TabModel",
     "model_module_version": "1.5.0",
     "state": {
      "_dom_classes": [],
      "_model_module": "@jupyter-widgets/controls",
      "_model_module_version": "1.5.0",
      "_model_name": "TabModel",
      "_titles": {
       "0": "Original",
       "1": "Our Solution"
      },
      "_view_count": null,
      "_view_module": "@jupyter-widgets/controls",
      "_view_module_version": "1.5.0",
      "_view_name": "TabView",
      "box_style": "",
      "children": [
       "IPY_MODEL_ca9382f0a7d4442db469c7226794a9b5",
       "IPY_MODEL_d7721e8097e84676a3386351ee1646d9"
      ],
      "layout": "IPY_MODEL_e81fb842c82b4ade90b4f31ac4e208e4",
      "selected_index": 0
     }
    },
    "ca9382f0a7d4442db469c7226794a9b5": {
     "model_module": "@jupyter-widgets/output",
     "model_name": "OutputModel",
     "model_module_version": "1.0.0",
     "state": {
      "_dom_classes": [],
      "_model_module": "@jupyter-widgets/output",
      "_model_module_version": "1.0.0",
      "_model_name": "OutputModel",
      "_view_count": null,
      "_view_module": "@jupyter-widgets/output",
      "_view_module_version": "1.0.0",
      "_view_name": "OutputView",
      "layout": "IPY_MODEL_6159a3e1f18d44cbb3c104562d578686",
      "msg_id": "",
      "outputs": [
       {
        "output_type": "display_data",
        "data": {
         "text/plain": "rdrhgt = 5.2 \na = 5 \n \nif (rdrhgt > 5) and (a > 11):\n   print('Can ride a rollercoaster')",
         "text/html": "<style>pre { line-height: 125%; }\ntd.linenos .normal { color: inherit; background-color: transparent; padding-left: 5px; padding-right: 5px; }\nspan.linenos { color: inherit; background-color: transparent; padding-left: 5px; padding-right: 5px; }\ntd.linenos .special { color: #000000; background-color: #ffffc0; padding-left: 5px; padding-right: 5px; }\nspan.linenos.special { color: #000000; background-color: #ffffc0; padding-left: 5px; padding-right: 5px; }\n.output_html .hll { background-color: #ffffcc }\n.output_html { background: #f8f8f8; }\n.output_html .c { color: #3D7B7B; font-style: italic } /* Comment */\n.output_html .err { border: 1px solid #FF0000 } /* Error */\n.output_html .k { color: #008000; font-weight: bold } /* Keyword */\n.output_html .o { color: #666666 } /* Operator */\n.output_html .ch { color: #3D7B7B; font-style: italic } /* Comment.Hashbang */\n.output_html .cm { color: #3D7B7B; font-style: italic } /* Comment.Multiline */\n.output_html .cp { color: #9C6500 } /* Comment.Preproc */\n.output_html .cpf { color: #3D7B7B; font-style: italic } /* Comment.PreprocFile */\n.output_html .c1 { color: #3D7B7B; font-style: italic } /* Comment.Single */\n.output_html .cs { color: #3D7B7B; font-style: italic } /* Comment.Special */\n.output_html .gd { color: #A00000 } /* Generic.Deleted */\n.output_html .ge { font-style: italic } /* Generic.Emph */\n.output_html .gr { color: #E40000 } /* Generic.Error */\n.output_html .gh { color: #000080; font-weight: bold } /* Generic.Heading */\n.output_html .gi { color: #008400 } /* Generic.Inserted */\n.output_html .go { color: #717171 } /* Generic.Output */\n.output_html .gp { color: #000080; font-weight: bold } /* Generic.Prompt */\n.output_html .gs { font-weight: bold } /* Generic.Strong */\n.output_html .gu { color: #800080; font-weight: bold } /* Generic.Subheading */\n.output_html .gt { color: #0044DD } /* Generic.Traceback */\n.output_html .kc { color: #008000; font-weight: bold } /* Keyword.Constant */\n.output_html .kd { color: #008000; font-weight: bold } /* Keyword.Declaration */\n.output_html .kn { color: #008000; font-weight: bold } /* Keyword.Namespace */\n.output_html .kp { color: #008000 } /* Keyword.Pseudo */\n.output_html .kr { color: #008000; font-weight: bold } /* Keyword.Reserved */\n.output_html .kt { color: #B00040 } /* Keyword.Type */\n.output_html .m { color: #666666 } /* Literal.Number */\n.output_html .s { color: #BA2121 } /* Literal.String */\n.output_html .na { color: #687822 } /* Name.Attribute */\n.output_html .nb { color: #008000 } /* Name.Builtin */\n.output_html .nc { color: #0000FF; font-weight: bold } /* Name.Class */\n.output_html .no { color: #880000 } /* Name.Constant */\n.output_html .nd { color: #AA22FF } /* Name.Decorator */\n.output_html .ni { color: #717171; font-weight: bold } /* Name.Entity */\n.output_html .ne { color: #CB3F38; font-weight: bold } /* Name.Exception */\n.output_html .nf { color: #0000FF } /* Name.Function */\n.output_html .nl { color: #767600 } /* Name.Label */\n.output_html .nn { color: #0000FF; font-weight: bold } /* Name.Namespace */\n.output_html .nt { color: #008000; font-weight: bold } /* Name.Tag */\n.output_html .nv { color: #19177C } /* Name.Variable */\n.output_html .ow { color: #AA22FF; font-weight: bold } /* Operator.Word */\n.output_html .w { color: #bbbbbb } /* Text.Whitespace */\n.output_html .mb { color: #666666 } /* Literal.Number.Bin */\n.output_html .mf { color: #666666 } /* Literal.Number.Float */\n.output_html .mh { color: #666666 } /* Literal.Number.Hex */\n.output_html .mi { color: #666666 } /* Literal.Number.Integer */\n.output_html .mo { color: #666666 } /* Literal.Number.Oct */\n.output_html .sa { color: #BA2121 } /* Literal.String.Affix */\n.output_html .sb { color: #BA2121 } /* Literal.String.Backtick */\n.output_html .sc { color: #BA2121 } /* Literal.String.Char */\n.output_html .dl { color: #BA2121 } /* Literal.String.Delimiter */\n.output_html .sd { color: #BA2121; font-style: italic } /* Literal.String.Doc */\n.output_html .s2 { color: #BA2121 } /* Literal.String.Double */\n.output_html .se { color: #AA5D1F; font-weight: bold } /* Literal.String.Escape */\n.output_html .sh { color: #BA2121 } /* Literal.String.Heredoc */\n.output_html .si { color: #A45A77; font-weight: bold } /* Literal.String.Interpol */\n.output_html .sx { color: #008000 } /* Literal.String.Other */\n.output_html .sr { color: #A45A77 } /* Literal.String.Regex */\n.output_html .s1 { color: #BA2121 } /* Literal.String.Single */\n.output_html .ss { color: #19177C } /* Literal.String.Symbol */\n.output_html .bp { color: #008000 } /* Name.Builtin.Pseudo */\n.output_html .fm { color: #0000FF } /* Name.Function.Magic */\n.output_html .vc { color: #19177C } /* Name.Variable.Class */\n.output_html .vg { color: #19177C } /* Name.Variable.Global */\n.output_html .vi { color: #19177C } /* Name.Variable.Instance */\n.output_html .vm { color: #19177C } /* Name.Variable.Magic */\n.output_html .il { color: #666666 } /* Literal.Number.Integer.Long */</style><div class=\"highlight\"><pre><span></span><span class=\"nv\">rdrhgt</span><span class=\"w\"> </span><span class=\"o\">=</span><span class=\"w\"> </span><span class=\"mi\">5</span>.<span class=\"mi\">2</span><span class=\"w\"> </span>\n<span class=\"nv\">a</span><span class=\"w\"> </span><span class=\"o\">=</span><span class=\"w\"> </span><span class=\"mi\">5</span><span class=\"w\"> </span>\n<span class=\"w\"> </span>\n<span class=\"k\">if</span><span class=\"w\"> </span><span class=\"ss\">(</span><span class=\"nv\">rdrhgt</span><span class=\"w\"> </span><span class=\"o\">&gt;</span><span class=\"w\"> </span><span class=\"mi\">5</span><span class=\"ss\">)</span><span class=\"w\"> </span><span class=\"nv\">and</span><span class=\"w\"> </span><span class=\"ss\">(</span><span class=\"nv\">a</span><span class=\"w\"> </span><span class=\"o\">&gt;</span><span class=\"w\"> </span><span class=\"mi\">11</span><span class=\"ss\">)</span>:\n<span class=\"w\">   </span><span class=\"nv\">print</span><span class=\"ss\">(</span><span class=\"s1\">&#39;Can ride a rollercoaster&#39;</span><span class=\"ss\">)</span>\n</pre></div>\n",
         "text/latex": "\\begin{Verbatim}[commandchars=\\\\\\{\\}]\n\\PY{n+nv}{rdrhgt}\\PY{+w}{ }\\PY{o}{=}\\PY{+w}{ }\\PY{l+m+mi}{5}.\\PY{l+m+mi}{2}\\PY{+w}{ }\n\\PY{n+nv}{a}\\PY{+w}{ }\\PY{o}{=}\\PY{+w}{ }\\PY{l+m+mi}{5}\\PY{+w}{ }\n\\PY{+w}{ }\n\\PY{k}{if}\\PY{+w}{ }\\PY{l+s+ss}{(}\\PY{n+nv}{rdrhgt}\\PY{+w}{ }\\PY{o}{\\PYZgt{}}\\PY{+w}{ }\\PY{l+m+mi}{5}\\PY{l+s+ss}{)}\\PY{+w}{ }\\PY{n+nv}{and}\\PY{+w}{ }\\PY{l+s+ss}{(}\\PY{n+nv}{a}\\PY{+w}{ }\\PY{o}{\\PYZgt{}}\\PY{+w}{ }\\PY{l+m+mi}{11}\\PY{l+s+ss}{)}:\n\\PY{+w}{   }\\PY{n+nv}{print}\\PY{l+s+ss}{(}\\PY{l+s+s1}{\\PYZsq{}Can ride a rollercoaster\\PYZsq{}}\\PY{l+s+ss}{)}\n\\end{Verbatim}\n"
        },
        "metadata": {}
       }
      ]
     }
    },
    "d7721e8097e84676a3386351ee1646d9": {
     "model_module": "@jupyter-widgets/output",
     "model_name": "OutputModel",
     "model_module_version": "1.0.0",
     "state": {
      "_dom_classes": [],
      "_model_module": "@jupyter-widgets/output",
      "_model_module_version": "1.0.0",
      "_model_name": "OutputModel",
      "_view_count": null,
      "_view_module": "@jupyter-widgets/output",
      "_view_module_version": "1.0.0",
      "_view_name": "OutputView",
      "layout": "IPY_MODEL_44b1e769e2e44462a39bf7ec5f695f8d",
      "msg_id": "",
      "outputs": [
       {
        "output_type": "display_data",
        "data": {
         "text/plain": "rider_height = 5.2 \nrider_age = 5 \n \nMINIMUM_RIDER_HEIGHT=5 \nMINIMUM_RIDER_AGE=11 \n \nif (rider_height > MINIMUM_RIDER_HEIGHT) and (rider_age > MINIMUM_RIDER_AGE):\n   print('Can ride a rollercoaster')",
         "text/html": "<style>pre { line-height: 125%; }\ntd.linenos .normal { color: inherit; background-color: transparent; padding-left: 5px; padding-right: 5px; }\nspan.linenos { color: inherit; background-color: transparent; padding-left: 5px; padding-right: 5px; }\ntd.linenos .special { color: #000000; background-color: #ffffc0; padding-left: 5px; padding-right: 5px; }\nspan.linenos.special { color: #000000; background-color: #ffffc0; padding-left: 5px; padding-right: 5px; }\n.output_html .hll { background-color: #ffffcc }\n.output_html { background: #f8f8f8; }\n.output_html .c { color: #3D7B7B; font-style: italic } /* Comment */\n.output_html .err { border: 1px solid #FF0000 } /* Error */\n.output_html .k { color: #008000; font-weight: bold } /* Keyword */\n.output_html .o { color: #666666 } /* Operator */\n.output_html .ch { color: #3D7B7B; font-style: italic } /* Comment.Hashbang */\n.output_html .cm { color: #3D7B7B; font-style: italic } /* Comment.Multiline */\n.output_html .cp { color: #9C6500 } /* Comment.Preproc */\n.output_html .cpf { color: #3D7B7B; font-style: italic } /* Comment.PreprocFile */\n.output_html .c1 { color: #3D7B7B; font-style: italic } /* Comment.Single */\n.output_html .cs { color: #3D7B7B; font-style: italic } /* Comment.Special */\n.output_html .gd { color: #A00000 } /* Generic.Deleted */\n.output_html .ge { font-style: italic } /* Generic.Emph */\n.output_html .gr { color: #E40000 } /* Generic.Error */\n.output_html .gh { color: #000080; font-weight: bold } /* Generic.Heading */\n.output_html .gi { color: #008400 } /* Generic.Inserted */\n.output_html .go { color: #717171 } /* Generic.Output */\n.output_html .gp { color: #000080; font-weight: bold } /* Generic.Prompt */\n.output_html .gs { font-weight: bold } /* Generic.Strong */\n.output_html .gu { color: #800080; font-weight: bold } /* Generic.Subheading */\n.output_html .gt { color: #0044DD } /* Generic.Traceback */\n.output_html .kc { color: #008000; font-weight: bold } /* Keyword.Constant */\n.output_html .kd { color: #008000; font-weight: bold } /* Keyword.Declaration */\n.output_html .kn { color: #008000; font-weight: bold } /* Keyword.Namespace */\n.output_html .kp { color: #008000 } /* Keyword.Pseudo */\n.output_html .kr { color: #008000; font-weight: bold } /* Keyword.Reserved */\n.output_html .kt { color: #B00040 } /* Keyword.Type */\n.output_html .m { color: #666666 } /* Literal.Number */\n.output_html .s { color: #BA2121 } /* Literal.String */\n.output_html .na { color: #687822 } /* Name.Attribute */\n.output_html .nb { color: #008000 } /* Name.Builtin */\n.output_html .nc { color: #0000FF; font-weight: bold } /* Name.Class */\n.output_html .no { color: #880000 } /* Name.Constant */\n.output_html .nd { color: #AA22FF } /* Name.Decorator */\n.output_html .ni { color: #717171; font-weight: bold } /* Name.Entity */\n.output_html .ne { color: #CB3F38; font-weight: bold } /* Name.Exception */\n.output_html .nf { color: #0000FF } /* Name.Function */\n.output_html .nl { color: #767600 } /* Name.Label */\n.output_html .nn { color: #0000FF; font-weight: bold } /* Name.Namespace */\n.output_html .nt { color: #008000; font-weight: bold } /* Name.Tag */\n.output_html .nv { color: #19177C } /* Name.Variable */\n.output_html .ow { color: #AA22FF; font-weight: bold } /* Operator.Word */\n.output_html .w { color: #bbbbbb } /* Text.Whitespace */\n.output_html .mb { color: #666666 } /* Literal.Number.Bin */\n.output_html .mf { color: #666666 } /* Literal.Number.Float */\n.output_html .mh { color: #666666 } /* Literal.Number.Hex */\n.output_html .mi { color: #666666 } /* Literal.Number.Integer */\n.output_html .mo { color: #666666 } /* Literal.Number.Oct */\n.output_html .sa { color: #BA2121 } /* Literal.String.Affix */\n.output_html .sb { color: #BA2121 } /* Literal.String.Backtick */\n.output_html .sc { color: #BA2121 } /* Literal.String.Char */\n.output_html .dl { color: #BA2121 } /* Literal.String.Delimiter */\n.output_html .sd { color: #BA2121; font-style: italic } /* Literal.String.Doc */\n.output_html .s2 { color: #BA2121 } /* Literal.String.Double */\n.output_html .se { color: #AA5D1F; font-weight: bold } /* Literal.String.Escape */\n.output_html .sh { color: #BA2121 } /* Literal.String.Heredoc */\n.output_html .si { color: #A45A77; font-weight: bold } /* Literal.String.Interpol */\n.output_html .sx { color: #008000 } /* Literal.String.Other */\n.output_html .sr { color: #A45A77 } /* Literal.String.Regex */\n.output_html .s1 { color: #BA2121 } /* Literal.String.Single */\n.output_html .ss { color: #19177C } /* Literal.String.Symbol */\n.output_html .bp { color: #008000 } /* Name.Builtin.Pseudo */\n.output_html .fm { color: #0000FF } /* Name.Function.Magic */\n.output_html .vc { color: #19177C } /* Name.Variable.Class */\n.output_html .vg { color: #19177C } /* Name.Variable.Global */\n.output_html .vi { color: #19177C } /* Name.Variable.Instance */\n.output_html .vm { color: #19177C } /* Name.Variable.Magic */\n.output_html .il { color: #666666 } /* Literal.Number.Integer.Long */</style><div class=\"highlight\"><pre><span></span><span class=\"nv\">rider_height</span><span class=\"w\"> </span><span class=\"o\">=</span><span class=\"w\"> </span><span class=\"mi\">5</span>.<span class=\"mi\">2</span><span class=\"w\"> </span>\n<span class=\"nv\">rider_age</span><span class=\"w\"> </span><span class=\"o\">=</span><span class=\"w\"> </span><span class=\"mi\">5</span><span class=\"w\"> </span>\n<span class=\"w\"> </span>\n<span class=\"nv\">MINIMUM_RIDER_HEIGHT</span><span class=\"o\">=</span><span class=\"mi\">5</span><span class=\"w\"> </span>\n<span class=\"nv\">MINIMUM_RIDER_AGE</span><span class=\"o\">=</span><span class=\"mi\">11</span><span class=\"w\"> </span>\n<span class=\"w\"> </span>\n<span class=\"k\">if</span><span class=\"w\"> </span><span class=\"ss\">(</span><span class=\"nv\">rider_height</span><span class=\"w\"> </span><span class=\"o\">&gt;</span><span class=\"w\"> </span><span class=\"nv\">MINIMUM_RIDER_HEIGHT</span><span class=\"ss\">)</span><span class=\"w\"> </span><span class=\"nv\">and</span><span class=\"w\"> </span><span class=\"ss\">(</span><span class=\"nv\">rider_age</span><span class=\"w\"> </span><span class=\"o\">&gt;</span><span class=\"w\"> </span><span class=\"nv\">MINIMUM_RIDER_AGE</span><span class=\"ss\">)</span>:\n<span class=\"w\">   </span><span class=\"nv\">print</span><span class=\"ss\">(</span><span class=\"s1\">&#39;Can ride a rollercoaster&#39;</span><span class=\"ss\">)</span>\n</pre></div>\n",
         "text/latex": "\\begin{Verbatim}[commandchars=\\\\\\{\\}]\n\\PY{n+nv}{rider\\PYZus{}height}\\PY{+w}{ }\\PY{o}{=}\\PY{+w}{ }\\PY{l+m+mi}{5}.\\PY{l+m+mi}{2}\\PY{+w}{ }\n\\PY{n+nv}{rider\\PYZus{}age}\\PY{+w}{ }\\PY{o}{=}\\PY{+w}{ }\\PY{l+m+mi}{5}\\PY{+w}{ }\n\\PY{+w}{ }\n\\PY{n+nv}{MINIMUM\\PYZus{}RIDER\\PYZus{}HEIGHT}\\PY{o}{=}\\PY{l+m+mi}{5}\\PY{+w}{ }\n\\PY{n+nv}{MINIMUM\\PYZus{}RIDER\\PYZus{}AGE}\\PY{o}{=}\\PY{l+m+mi}{11}\\PY{+w}{ }\n\\PY{+w}{ }\n\\PY{k}{if}\\PY{+w}{ }\\PY{l+s+ss}{(}\\PY{n+nv}{rider\\PYZus{}height}\\PY{+w}{ }\\PY{o}{\\PYZgt{}}\\PY{+w}{ }\\PY{n+nv}{MINIMUM\\PYZus{}RIDER\\PYZus{}HEIGHT}\\PY{l+s+ss}{)}\\PY{+w}{ }\\PY{n+nv}{and}\\PY{+w}{ }\\PY{l+s+ss}{(}\\PY{n+nv}{rider\\PYZus{}age}\\PY{+w}{ }\\PY{o}{\\PYZgt{}}\\PY{+w}{ }\\PY{n+nv}{MINIMUM\\PYZus{}RIDER\\PYZus{}AGE}\\PY{l+s+ss}{)}:\n\\PY{+w}{   }\\PY{n+nv}{print}\\PY{l+s+ss}{(}\\PY{l+s+s1}{\\PYZsq{}Can ride a rollercoaster\\PYZsq{}}\\PY{l+s+ss}{)}\n\\end{Verbatim}\n"
        },
        "metadata": {}
       }
      ]
     }
    },
    "e81fb842c82b4ade90b4f31ac4e208e4": {
     "model_module": "@jupyter-widgets/base",
     "model_name": "LayoutModel",
     "model_module_version": "1.2.0",
     "state": {
      "_model_module": "@jupyter-widgets/base",
      "_model_module_version": "1.2.0",
      "_model_name": "LayoutModel",
      "_view_count": null,
      "_view_module": "@jupyter-widgets/base",
      "_view_module_version": "1.2.0",
      "_view_name": "LayoutView",
      "align_content": null,
      "align_items": null,
      "align_self": null,
      "border": null,
      "bottom": null,
      "display": null,
      "flex": null,
      "flex_flow": null,
      "grid_area": null,
      "grid_auto_columns": null,
      "grid_auto_flow": null,
      "grid_auto_rows": null,
      "grid_column": null,
      "grid_gap": null,
      "grid_row": null,
      "grid_template_areas": null,
      "grid_template_columns": null,
      "grid_template_rows": null,
      "height": null,
      "justify_content": null,
      "justify_items": null,
      "left": null,
      "margin": null,
      "max_height": null,
      "max_width": null,
      "min_height": null,
      "min_width": null,
      "object_fit": null,
      "object_position": null,
      "order": null,
      "overflow": null,
      "overflow_x": null,
      "overflow_y": null,
      "padding": null,
      "right": null,
      "top": null,
      "visibility": null,
      "width": null
     }
    },
    "6159a3e1f18d44cbb3c104562d578686": {
     "model_module": "@jupyter-widgets/base",
     "model_name": "LayoutModel",
     "model_module_version": "1.2.0",
     "state": {
      "_model_module": "@jupyter-widgets/base",
      "_model_module_version": "1.2.0",
      "_model_name": "LayoutModel",
      "_view_count": null,
      "_view_module": "@jupyter-widgets/base",
      "_view_module_version": "1.2.0",
      "_view_name": "LayoutView",
      "align_content": null,
      "align_items": null,
      "align_self": null,
      "border": null,
      "bottom": null,
      "display": null,
      "flex": null,
      "flex_flow": null,
      "grid_area": null,
      "grid_auto_columns": null,
      "grid_auto_flow": null,
      "grid_auto_rows": null,
      "grid_column": null,
      "grid_gap": null,
      "grid_row": null,
      "grid_template_areas": null,
      "grid_template_columns": null,
      "grid_template_rows": null,
      "height": null,
      "justify_content": null,
      "justify_items": null,
      "left": null,
      "margin": null,
      "max_height": null,
      "max_width": null,
      "min_height": null,
      "min_width": null,
      "object_fit": null,
      "object_position": null,
      "order": null,
      "overflow": null,
      "overflow_x": null,
      "overflow_y": null,
      "padding": null,
      "right": null,
      "top": null,
      "visibility": null,
      "width": null
     }
    },
    "44b1e769e2e44462a39bf7ec5f695f8d": {
     "model_module": "@jupyter-widgets/base",
     "model_name": "LayoutModel",
     "model_module_version": "1.2.0",
     "state": {
      "_model_module": "@jupyter-widgets/base",
      "_model_module_version": "1.2.0",
      "_model_name": "LayoutModel",
      "_view_count": null,
      "_view_module": "@jupyter-widgets/base",
      "_view_module_version": "1.2.0",
      "_view_name": "LayoutView",
      "align_content": null,
      "align_items": null,
      "align_self": null,
      "border": null,
      "bottom": null,
      "display": null,
      "flex": null,
      "flex_flow": null,
      "grid_area": null,
      "grid_auto_columns": null,
      "grid_auto_flow": null,
      "grid_auto_rows": null,
      "grid_column": null,
      "grid_gap": null,
      "grid_row": null,
      "grid_template_areas": null,
      "grid_template_columns": null,
      "grid_template_rows": null,
      "height": null,
      "justify_content": null,
      "justify_items": null,
      "left": null,
      "margin": null,
      "max_height": null,
      "max_width": null,
      "min_height": null,
      "min_width": null,
      "object_fit": null,
      "object_position": null,
      "order": null,
      "overflow": null,
      "overflow_x": null,
      "overflow_y": null,
      "padding": null,
      "right": null,
      "top": null,
      "visibility": null,
      "width": null
     }
    }
   }
  }
 },
 "cells": [
  {
   "cell_type": "markdown",
   "source": [
    "# Use good variable names\n",
    "\n",
    "\n"
   ],
   "metadata": {
    "id": "NvVJwfzxZfR2"
   }
  },
  {
   "cell_type": "markdown",
   "source": [
    "## Video\n",
    "\n",
    "The below video is from an old version but the first 6 and a half minutes are similar to what I'd do for this (with a slight change to the example)."
   ],
   "metadata": {
    "id": "qKeKbf1CoilE"
   }
  },
  {
   "cell_type": "markdown",
   "metadata": {},
   "source": [
    "\n"
   ]
  },
  {
   "cell_type": "code",
   "source": [
    "# @markdown\n",
    "\n",
    "from IPython.display import YouTubeVideo\n",
    "video_id = 'oAV1oO1Flwk'\n",
    "video = YouTubeVideo(id=video_id, width=730,\n",
    "                      height=410, fs=1, rel=0)\n",
    "print(f'Video available at https://youtube.com/watch?v={video_id}')\n",
    "\n",
    "display(video)"
   ],
   "metadata": {
    "id": "PfUMJesKojui",
    "colab": {
     "base_uri": "https://localhost:8080/",
     "height": 519
    },
    "cellView": "form",
    "outputId": "8e6ab925-c48d-4d25-8abd-b8c85e1b4261",
    "tags": [
     "remove-input"
    ]
   },
   "execution_count": null,
   "outputs": [
    {
     "output_type": "stream",
     "name": "stdout",
     "text": [
      "Video available at https://youtube.com/watch?v=oAV1oO1Flwk\n"
     ]
    },
    {
     "output_type": "display_data",
     "data": {
      "text/plain": [
       "<IPython.lib.display.YouTubeVideo at 0x7fc1aa128ac0>"
      ],
      "text/html": [
       "\n",
       "        <iframe\n",
       "            width=\"854\"\n",
       "            height=\"480\"\n",
       "            src=\"https://www.youtube.com/embed/oAV1oO1Flwk?fs=1&rel=0\"\n",
       "            frameborder=\"0\"\n",
       "            allowfullscreen\n",
       "            \n",
       "        ></iframe>\n",
       "        "
      ]
     },
     "metadata": {}
    }
   ]
  },
  {
   "cell_type": "markdown",
   "source": [
    "## Interactive Exercise: Putting it into practice\n",
    "\n",
    "Try fixing our example code snippet with bad variable names.\n",
    "\n",
    "This code is checking whether someone is tall and old enough to ride a rollercoaster. It that their height (`rdrhgt`) is above the minimum height of 5 and that their age (`a`) is above the minimum age of 11.\n",
    "\n",
    "First, identify any issues with variable names. Then, update the code to reflect better variable names."
   ],
   "metadata": {
    "id": "dKVisiGF6DMu"
   }
  },
  {
   "cell_type": "code",
   "source": [
    "rdrhgt = 5.2\n",
    "a = 12\n",
    "\n",
    "if (rdrhgt > 5) and (a > 11):\n",
    "    print('Can ride a rollercoaster')"
   ],
   "metadata": {
    "id": "bqjgvfHu6OKU"
   },
   "execution_count": null,
   "outputs": []
  },
  {
   "cell_type": "markdown",
   "source": [
    "<details>\n",
    "<summary> <font color='blue'>Click here for solution explanation </font></summary>\n",
    "\n",
    "\n",
    "*This explains our thought process behind our updates to the variable names. There is not one right answer so it's ok if you opted for different variable names*\n",
    "\n",
    "`rdrhgt` is not pronouncable and not very clear. It is short hand for `rider_height` so we will just use that - much clearer and worth the extra letters!\n",
    "\n",
    "`a` is not a noun and not informative. We could rename as `age`. However, since height and age are both attributes of the rider, having `rider_height` and `age` is not very consistent. We will instead use `rider_age`. Note that `rider_height` and `rider_age` are quite a bit clearer and more informative than just `height` and `age` and are worth the extra letters.\n",
    "\n",
    "Next, we want to get rid of our magic numbers: 5 and 11. We will give them the variable names `MINIMUM_RIDER_HEIGHT` and `MINIMUM_RIDER_AGE`. These are capitalized because, according to the Python PEP8 style guide, constants (variables whose value cannot be changed during code execution) should be capitalized.\n",
    "\n",
    "```\n",
    "rider_height = 5.2\n",
    "rider_age = 12\n",
    "\n",
    "MINIMUM_RIDER_HEIGHT = 5\n",
    "MINIMUM_RIDER_AGE = 11\n",
    "\n",
    "if (rider_height > MINIMUM_RIDER_HEIGHT) and (rider_age > MINIMUM_RIDER_AGE):\n",
    "    print('Can ride a rollercoaster')\n",
    "```"
   ],
   "metadata": {
    "id": "MXPb4mW-w7f1"
   }
  },
  {
   "cell_type": "markdown",
   "metadata": {},
   "source": [
    "\n"
   ]
  },
  {
   "cell_type": "code",
   "source": [
    "# @markdown\n",
    "from ipywidgets import widgets\n",
    "from IPython.display import display\n",
    "from IPython.display import Code\n",
    "\n",
    "original_code = widgets.Output()\n",
    "with original_code:\n",
    "  code_str = \"rdrhgt = 5.2 \\na = 5 \\n \\nif (rdrhgt > 5) and (a > 11):\\n   print('Can ride a rollercoaster')\"\n",
    "  display(Code(code_str))\n",
    "\n",
    "solution_code = widgets.Output()\n",
    "with solution_code:\n",
    "  code_str = \"rider_height = 5.2 \\nrider_age = 5 \\n \\nMINIMUM_RIDER_HEIGHT=5 \\nMINIMUM_RIDER_AGE=11 \\n \\nif (rider_height > MINIMUM_RIDER_HEIGHT) and (rider_age > MINIMUM_RIDER_AGE):\\n   print('Can ride a rollercoaster')\"\n",
    "  display(Code(code_str))\n",
    "\n",
    "tabs = widgets.Tab()\n",
    "tabs.children = [original_code, solution_code]\n",
    "tabs.set_title(0, 'Original')\n",
    "tabs.set_title(1, 'Our Solution')\n",
    "display(tabs)"
   ],
   "metadata": {
    "cellView": "form",
    "id": "3A_OAkEL34WL",
    "outputId": "0259db95-8116-49a7-a7aa-aa7d3ad93c23",
    "colab": {
     "base_uri": "https://localhost:8080/",
     "height": 166,
     "referenced_widgets": [
      "282509cb9fe54422b21a3231749b4da6",
      "ca9382f0a7d4442db469c7226794a9b5",
      "d7721e8097e84676a3386351ee1646d9",
      "e81fb842c82b4ade90b4f31ac4e208e4",
      "6159a3e1f18d44cbb3c104562d578686",
      "44b1e769e2e44462a39bf7ec5f695f8d"
     ]
    },
    "tags": [
     "hide-input"
    ]
   },
   "execution_count": null,
   "outputs": [
    {
     "output_type": "display_data",
     "data": {
      "text/plain": [
       "Tab(children=(Output(), Output()), _titles={'0': 'Original', '1': 'Our Solution'})"
      ],
      "application/vnd.jupyter.widget-view+json": {
       "version_major": 2,
       "version_minor": 0,
       "model_id": "282509cb9fe54422b21a3231749b4da6"
      }
     },
     "metadata": {}
    }
   ]
  },
  {
   "cell_type": "markdown",
   "source": [
    "*Note to CENTER: There must be a more elagant solution for tabbing. I didn't go with jupyterbook solution as I want this to show up in Colab if that is where students are working*"
   ],
   "metadata": {
    "id": "SoBreIsB7YVY"
   }
  },
  {
   "cell_type": "markdown",
   "source": [
    "*Follow-up reflection:* Compare the original code to our solution. Which allows you to better quickly grasp what the code is doing? If you made a mistake and accidentally first compared the rider height to a minimum value of 11 (the minimum age), which coding style would ensure you are more likely to catch the mistake?"
   ],
   "metadata": {
    "id": "07okkucQ07yt"
   }
  },
  {
   "cell_type": "markdown",
   "source": [
    "## Recap & Extra Tips\n",
    "\n",
    "**USE GOOD VARIABLE NAMES**\n",
    "\n",
    "These variable names should:\n",
    "   - Be nouns\n",
    "   - Be informative\n",
    "   - Be pronouncable and searchable\n",
    "   - Be consistent\n",
    "   - Be distinct\n",
    "   - Follow code style guide\n",
    "   - Exist: you should not have magic mysterious numbers not assigned to variables\n",
    "   - For Booleans: be affirmative and potentially contain the prefixes `is` or `has`\n",
    "\n",
    "Extra tips for variable naming that we didn't cover above:\n",
    "  - Do not append the data type to a variable name. For example, you should not use `months_list` to denote a list of months. Users can easily check the type of the variable and this will be confusing if the data type ever changes within the code base\n",
    "\n",
    "\n",
    "\n",
    "\n"
   ],
   "metadata": {
    "id": "RVshX92iQQ_l"
   }
  }
 ]
}