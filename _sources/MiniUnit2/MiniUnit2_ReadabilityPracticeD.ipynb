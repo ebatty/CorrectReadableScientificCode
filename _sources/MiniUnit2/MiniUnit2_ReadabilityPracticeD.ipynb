{
 "nbformat": 4,
 "nbformat_minor": 0,
 "metadata": {
  "colab": {
   "provenance": [],
   "authorship_tag": "ABX9TyOejo8XzXMibZecSrKPxE28"
  },
  "kernelspec": {
   "name": "python3",
   "display_name": "Python 3"
  },
  "language_info": {
   "name": "python"
  }
 },
 "cells": [
  {
   "cell_type": "markdown",
   "source": [
    "# Use comments strategically\n",
    "\n",
    "\n"
   ],
   "metadata": {
    "id": "NvVJwfzxZfR2"
   }
  },
  {
   "cell_type": "markdown",
   "source": [
    "## Video"
   ],
   "metadata": {
    "id": "qKeKbf1CoilE"
   }
  },
  {
   "cell_type": "markdown",
   "metadata": {},
   "source": [
    "\n"
   ]
  },
  {
   "cell_type": "code",
   "source": [
    "# @markdown\n",
    "\n",
    "from IPython.display import YouTubeVideo\n",
    "video_id = 'QSLNGvk3pZg'\n",
    "\n",
    "video = YouTubeVideo(id=video_id, width=730,\n",
    "                      height=410, fs=1, rel=0)\n",
    "print(f'Video available at https://youtube.com/watch?v={video_id}')\n",
    "\n",
    "display(video)"
   ],
   "metadata": {
    "cellView": "form",
    "colab": {
     "base_uri": "https://localhost:8080/",
     "height": 519
    },
    "id": "aiOFA7iKhryk",
    "outputId": "742a005f-79c1-414e-9281-ab927e967a45",
    "tags": [
     "remove-input"
    ]
   },
   "execution_count": null,
   "outputs": [
    {
     "output_type": "stream",
     "name": "stdout",
     "text": [
      "Video available at https://youtube.com/watch?v=QSLNGvk3pZg\n"
     ]
    },
    {
     "output_type": "display_data",
     "data": {
      "text/plain": [
       "<IPython.lib.display.YouTubeVideo at 0x7c64be32d150>"
      ],
      "text/html": [
       "\n",
       "        <iframe\n",
       "            width=\"854\"\n",
       "            height=\"480\"\n",
       "            src=\"https://www.youtube.com/embed/QSLNGvk3pZg?fs=1&rel=0\"\n",
       "            frameborder=\"0\"\n",
       "            allowfullscreen\n",
       "            \n",
       "        ></iframe>\n",
       "        "
      ],
      "image/jpeg": "[encoded data removed]"
     },
     "metadata": {}
    }
   ]
  },
  {
   "cell_type": "markdown",
   "source": [
    "## Interactive Exercise: Putting it into practice\n",
    "\n",
    "In the following exercise, look at each code snippet and determine whether the comment is useful, and why or why not. Click below each code snippet to reveal an explanation.\n",
    "\n",
    "*Note to CENTER: This could be made more aesthetically pleasing with more of a flashcard interactive style if possible. Each code snippet on one panel and you click on it to flip it over and see the answer*\n"
   ],
   "metadata": {
    "id": "dKVisiGF6DMu"
   }
  },
  {
   "cell_type": "code",
   "source": [
    "# used Plaugh analysis method from Plaugh et al, 2021 instead of\n",
    "# simpler and more common Tafre one, because Tafre one took 3x\n",
    "# as long on this type of data\n",
    "analyzed_data = analyze_using_plaugh_method(data)"
   ],
   "metadata": {
    "id": "T4SFwxReh0TP"
   },
   "execution_count": null,
   "outputs": []
  },
  {
   "cell_type": "markdown",
   "source": [
    "<details>\n",
    "<summary> <font color='blue'>Click here for explanation </font></summary>\n",
    "\n",
    "This comment is useful because it **explains the intent** of the programmer. It explains why the code is written this way, not what it is doing, which is harder to capture in just the code itself. This comment could save another user valuable time if they otherwise would have tried out the Tafre method.\n",
    "\n",
    "The comment is also useful because it **references source material** (the paper containing the analysis), which can be helpful for readers of the code to quickly find further details. Other great links to include in comments include referencing a codebase,StackOverflow question, or tutorial where the code snippet came from (as long as you have permission to use the code snippet).\n",
    "\n",
    "</details>"
   ],
   "metadata": {
    "id": "6v2VCRD0h2M_"
   }
  },
  {
   "cell_type": "code",
   "source": [
    "# loop over account requests\n",
    "for account_request in account_requests:\n",
    "\n",
    "   # check if the person is over 18\n",
    "   if account_request.user_age > 18:\n",
    "\n",
    "       # if they are, accept the request\n",
    "       account_request.status = 'accepted'\n",
    "\n",
    "   else:\n",
    "\n",
    "        # otherwise, decline the request\n",
    "        account_request.status = 'declined'"
   ],
   "metadata": {
    "colab": {
     "base_uri": "https://localhost:8080/",
     "height": 131
    },
    "id": "KAsZ3_hlh4fP",
    "outputId": "2605dc74-25a4-4fd5-ea7f-4ef571243350"
   },
   "execution_count": null,
   "outputs": [
    {
     "output_type": "error",
     "ename": "IndentationError",
     "evalue": "ignored",
     "traceback": [
      "\u001b[0;36m  File \u001b[0;32m\"<tokenize>\"\u001b[0;36m, line \u001b[0;32m10\u001b[0m\n\u001b[0;31m    else:\u001b[0m\n\u001b[0m    ^\u001b[0m\n\u001b[0;31mIndentationError\u001b[0m\u001b[0;31m:\u001b[0m unindent does not match any outer indentation level\n"
     ]
    }
   ]
  },
  {
   "cell_type": "markdown",
   "source": [
    "<details>\n",
    "<summary> <font color='blue'>Click here for explanation </font></summary>\n",
    "\n",
    "These comments are not useful because they are **redundant**. They say exactly what the code does and double the reading time.\n",
    "</details>"
   ],
   "metadata": {
    "id": "JKWOYMyZh6Y2"
   }
  },
  {
   "cell_type": "code",
   "source": [
    "# x is time step length, y is number of spikes, z is number of neurons\n",
    "computation_result = analyze_data(x, y, z)"
   ],
   "metadata": {
    "id": "jTkStYxbh8DA"
   },
   "execution_count": null,
   "outputs": []
  },
  {
   "cell_type": "markdown",
   "source": [
    "<details>\n",
    "<summary> <font color='blue'>Click here for explanation </font></summary>\n",
    "\n",
    "It would be much better to rename the variables rather than relying on the comment explanation here\n",
    "\n",
    "\n",
    "\n",
    "```\n",
    "computation_result = analyze_data(time_step_length, number_of_spikes, number_of_neurons)\n",
    "```\n",
    "</details>"
   ],
   "metadata": {
    "id": "0iS8PlChh8hr"
   }
  },
  {
   "cell_type": "code",
   "source": [
    "# this code takes 5 hours to run on cpus, need gpus\n",
    "analyzed_data = analyze_using_plaugh_method(data)"
   ],
   "metadata": {
    "id": "XvYNuZULiBNk"
   },
   "execution_count": null,
   "outputs": []
  },
  {
   "cell_type": "markdown",
   "source": [
    "<details>\n",
    "<summary> <font color='blue'>Click here for explanation </font></summary>\n",
    "\n",
    "Comments that **warn of consequences** are useful, they can help future users of the code avoid trying to run the code with insufficient memory/time/etc."
   ],
   "metadata": {
    "id": "7WzGOkutiCwb"
   }
  },
  {
   "cell_type": "code",
   "source": [
    "# match genomic regions in the format <id>:<start>-<end>\n",
    "genomic_regex = r\"([^:]+):(\\d+)-(\\d+)$\"\n",
    "\n",
    "# NOTE: need to come up with different example here as I took this from\n",
    "# https://github.com/JuliaDynamics/GoodScientificCodeWorkshop/tree/main/block2_clearcode\n",
    "# and not CC-BY"
   ],
   "metadata": {
    "id": "5y4myEWHiGFj"
   },
   "execution_count": null,
   "outputs": []
  },
  {
   "cell_type": "markdown",
   "source": [
    "<details>\n",
    "<summary> <font color='blue'>Click here for explanation </font></summary>\n",
    "\n",
    "Comments that **explain tricky code** are great, as long as you've tried to write the code in as readable a way as possible first.\n",
    "</details>"
   ],
   "metadata": {
    "id": "o8YgHBW9iGfO"
   }
  },
  {
   "cell_type": "code",
   "source": [
    "## Compute neural firing rate\n",
    "length_of_recording = spikes.shape[0] * time_step_length\n",
    "firing_rate = np.sum(spikes) / length_of_recording\n",
    "\n",
    "## Compute spike triggered average\n",
    "spike_triggered_average = np.zeros((number_of_frames_in_sta, ))\n",
    "spiking_frames = np.where(spikes)[0]\n",
    "for spiking_frame in spiking_frames:\n",
    "    start_frame = spiking_frame - number_of_frames_in_sta + 1\n",
    "    end_frame = spiking_frame + 1\n",
    "    prior_stimulus_to_spike = stimulus[start_frame:end_frame]\n",
    "    spike_triggered_average += spikes[spiking_frame] * prior_stimulus_to_spike\n",
    "spike_triggered_average /= np.sum(spikes[number_of_frames_in_sta- 1:])"
   ],
   "metadata": {
    "id": "0n1wfGgTiKiX"
   },
   "execution_count": null,
   "outputs": []
  },
  {
   "cell_type": "markdown",
   "source": [
    "<details>\n",
    "<summary> <font color='blue'>Click here for explanation </font></summary>\n",
    "\n",
    "Comments that **summarize cohesive chunks of code** are useful. Use blank lines between these cohesive chunks of code (think of each chunk as a paragraph) to help make your script more readable.\n",
    "</details>"
   ],
   "metadata": {
    "id": "lZylU74FiK3z"
   }
  },
  {
   "cell_type": "markdown",
   "source": [
    "## Recap\n",
    "\n",
    "**USE COMMENTS SMARTLY**\n",
    "\n",
    "Good comments might explain the intent of the programmer, warn of consequences, explain tricky code, summarize a cohesive chunk of code, or reference relevant websites/books/etc.\n",
    "\n",
    "Bad comments are redundant with code, misleading, or used as a crutch instead of making the code itself more readable.\n",
    "\n",
    "\n",
    "\n",
    "\n"
   ],
   "metadata": {
    "id": "RVshX92iQQ_l"
   }
  }
 ]
}