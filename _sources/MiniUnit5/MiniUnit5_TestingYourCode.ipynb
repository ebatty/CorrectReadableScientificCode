{
 "nbformat": 4,
 "nbformat_minor": 0,
 "metadata": {
  "colab": {
   "provenance": [],
   "authorship_tag": "ABX9TyMFXdDd/YTJc9UymMYEV1CC"
  },
  "kernelspec": {
   "name": "python3",
   "display_name": "Python 3"
  },
  "language_info": {
   "name": "python"
  }
 },
 "cells": [
  {
   "cell_type": "markdown",
   "source": [
    "# Mini-unit #5: Testing your code\n",
    "\n",
    "You may recall [name] from the first mini-unit, whose code error lead to a paper retraction. He is not the only to experience this - there have been numerous examples of code errors impacting published studies [insert a few refs]. Based on his experience, [name] now implements \"software-engineer level testing\" of research code. This mini-unit will teach you what that means and how to do it.\n",
    "\n",
    "In this mini-unit, we will focus on testing to detect actual code errors in code you write. You should also be testing to uncover issues in how you design your processing, analysis, etc and how you use other people's code - check out Unit [], which covers how to do this!\n",
    "\n",
    "A lot of this mini-unit is inspired by Patrick Mineault's excellent chapter on testing in The Good Research Handbook: https://goodresearch.dev/testing.html. Check this out for further reading on the topic!"
   ],
   "metadata": {
    "id": "8yOMV3c-Eelg"
   }
  },
  {
   "cell_type": "markdown",
   "source": [
    "## Video\n",
    "\n",
    "This video will include handwritten notes and live coding so slides aren't prepared.\n",
    "\n",
    "Script:\n",
    "\n",
    "Errors in code happen - they're difficult to avoid! So, you need to be checking and testing your code to catch errors and ensure it is correct, otherwise your research conclusions could be erroneous! The previous mini-units have already set you up well to test your code - it is much easier to test a suite of small functions than one long script.\n",
    "\n",
    "We will use a concept from software engineering called a *unit test* to give us a useful framework to systematically test our code. While anyway of checking your code is a good way, using this framework can be less stressful and less work, and allow for easier refactoring of your code.\n",
    "\n",
    "So what is a unit test? It is a test of a small piece of code, like a function, to make sure it is doing what it should.\n",
    "\n",
    "Let's back up and talk a bit about informal testing of your code.\n",
    "\n",
    "Let's jump in with an example. This function, taken from Patrick Mineault's chapter on Testing, computes the Fibonacci sequence, which is defined as:\n",
    "\n",
    "F(x) = F(x-1) + F(x-2)\n",
    "F(0) = 0\n",
    "F(1) = 1\n",
    "\n",
    "The first few numbers in this sequence are 0, 1, 1, 2, 3...\n",
    "\n",
    "So, how would you go about checking that you correctly wrote this function? You would probably want to try out some inputs and make sure you get the correct output.\n",
    "\n",
    "```\n",
    ">>> fib(0)\n",
    "0\n",
    ">>> fib(1)\n",
    "1\n",
    ">>> fib(2)\n",
    "1\n",
    ">>> fib(6)\n",
    "8\n",
    ">>> fib(40)\n",
    "102334155\n",
    "\n",
    "```\n",
    "\n",
    "\n",
    "\n",
    "This is great to check inputs vs outputs, and this is essentially the idea behind unit tests. You are testing that the function is doing what it should for a bunch of different inputs.\n",
    "\n",
    "Testing your function in this way is good, but has some downsides. If you're just calling the function via a command line interface or notebook, you may not be saving the expected outputs or any of your hard work on designing good tests . Later, if you change anything about the function and want to test it again, you might need to do it all over again!\n",
    "\n",
    "**Assert testing**\n",
    "An easy step-up for testing is to use `assert` statements. This is a statement in Python that throws an error if the statement following assert is False. Let's put all of our former informal tests as assert statements.\n",
    "\n",
    "```\n",
    "assert fib(0) == 0\n",
    "assert fib(1) == 1\n",
    "assert fib(2) == 1\n",
    "assert fib(6) == 8\n",
    "assert fib(40) == 102334155\n",
    "```\n",
    "\n",
    "When working with .py files, we can include this in the same file where the function lives, wrapped in the __name__ == '__main__' statement so we can directly run the file to run the tests. This way, the tests are right there with the functions and are documented well. You don't have to remember what the expected output of your test should be, an error will be thrown if one of the tests fails. Now, you can refactor the function and still run all the same tests by running the file directly.\n",
    "\n",
    "**Testing suite** Python has several frameworks for unit tests that allow you to group all your tests together and run them in a more automated way - you don't even have to remember to directly run each file to trigger the assert tests! I'll cover one such framework, `pytest`, in the advanced optional add-on. The idea is very similar to the assert statements - you're just wrapping them in functions and then you can run all the tests in your whole code base at once. It also enables better error messages when tests fail than the assert strategy, and allows you to test more. For example, it allows you to test that a function raises an error for an invalid input. All in all, I highly recommend checking out the video on this!\n",
    "\n",
    "\n",
    "**What to test**: Whether you are using the assert simple approach or a full testing suite, what matters most is how you design the tests. You need to be very explicit about what you expect as the output and compare to that. In the fibonacci function the inputs and outputs are quite simple, but when you are dealing with more complex functions that do analysis, you may need to spend a bit of time computing what the output should be by hand.\n",
    "\n",
    "What sorts of things should you test?\n",
    "- Correctness for typical inputs\n",
    "- Edge cases (weird inputs: often very small or large numbers)\n",
    "- Errors for bad inputs (what happens if you input -1?)\n",
    "- Shape of inputs and outputs\n",
    "\n",
    "We are focusing on testing pure functions without side effects as that's what we recommend writing. If you have more complicated functions or classes that depend on some state (like a random seed) or are doing something other than simply returning outputs (like saving out data), your tests need to be a little more complex.\n",
    "\n",
    "If you thoroughly test each function in your _src, you can be much more confident that your scientific code is accurate and that your results are valid! You can also save yourself time as you do not need to recheck everything when refactoring your code.  As a bonus, you'll often find that thinking through the tests gives you more insight into what the function should be doing, especially for odd cases. In fact, some coders find this so useful that they do *test-driven development*, which means they write all the tests for the function before actually writing the function."
   ],
   "metadata": {
    "id": "Rb4jbCemGHn6"
   }
  },
  {
   "cell_type": "markdown",
   "source": [
    "# Coding Exercise: Catching Errors\n",
    "\n",
    "For each example below, try writing multiple unit tests for it using the `assert` statement strategy. Within this context, write each `assert` statement in a separate code cell, otherwise if an earlier one fails you won't even run the following ones.\n",
    "\n",
    "Try to find any errors the function is making and if they do exist, figure out what the error is. If you have time, try fixing the function to pass your tests - it'll be good practice!"
   ],
   "metadata": {
    "id": "Qop-KjJVE6jQ"
   }
  },
  {
   "cell_type": "markdown",
   "source": [
    "**A)**\n",
    "\n"
   ],
   "metadata": {
    "id": "J52ET4hu6ye8"
   }
  },
  {
   "cell_type": "code",
   "source": [
    "def is_prime(number):\n",
    "    \"\"\"Checks if a number is prime.\n",
    "\n",
    "    Args:\n",
    "      number (int): The number to be checked.\n",
    "\n",
    "    Returns:\n",
    "      bool: True if the number is prime, False otherwise.\n",
    "    \"\"\"\n",
    "\n",
    "    for possible_factor in range(2, number):\n",
    "        if (number % possible_factor) == 0:\n",
    "            return False\n",
    "\n",
    "    return True"
   ],
   "metadata": {
    "id": "ntFQ9dyIEf92"
   },
   "execution_count": 11,
   "outputs": []
  },
  {
   "cell_type": "code",
   "source": [
    "# Write your assert statements to test is_prime here (remember to have one assert statement per code cell)\n",
    "\n",
    "\n"
   ],
   "metadata": {
    "id": "Q2gXqOjh60Qn"
   },
   "execution_count": null,
   "outputs": []
  },
  {
   "cell_type": "markdown",
   "source": [
    "Did you find any errors in the function?\n",
    "\n",
    "<textarea name=\"comments\" id=\"comments\">\n",
    "...\n",
    "</textarea><br />\n",
    "<input type=\"submit\" value=\"Submit\" />"
   ],
   "metadata": {
    "id": "zYF12O4tC4NL"
   }
  },
  {
   "cell_type": "code",
   "source": [
    "# Our solution\n",
    "\n",
    "assert is_prime(0)==False\n",
    "assert is_prime(1)==False\n",
    "assert is_prime(4)==False\n",
    "assert is_prime(7)==True\n",
    "assert is_prime(797)==True\n",
    "assert is_prime(14161729)==True\n",
    "assert is_prime(-7)==False\n",
    "assert is_prime(-4)==False\n",
    "# note that ideally we'd check that there is an exception for weird inputs like a\n",
    "#  string, but we need the testing suite to do this! assert can't check this\n",
    "\n",
    "def is_prime(number):\n",
    "    \"\"\"Checks if a number is prime.\n",
    "\n",
    "    Args:\n",
    "      number (int): The number to be checked.\n",
    "\n",
    "    Returns:\n",
    "      bool: True if the number is prime, False otherwise.\n",
    "    \"\"\"\n",
    "\n",
    "    if number <= 1:\n",
    "      return False\n",
    "\n",
    "    for possible_factor in range(2, number):\n",
    "        if (number % possible_factor) == 0:\n",
    "            return False\n",
    "\n",
    "    return True"
   ],
   "metadata": {
    "id": "m407mQyg7q2m"
   },
   "execution_count": 21,
   "outputs": []
  },
  {
   "cell_type": "markdown",
   "source": [
    "**B)**\n",
    "\n",
    "\n",
    "The function `find_nth_from_ends` should get the nth largest and smallest unique values from the input numpy array. So for example, if n = 2 and there are multiple entries of 100 tied for maximum, the second largest value would not be 100, it would be the next highest value present in the array.\n",
    "\n",
    "Brief reminder: you can create a 1-d array in numpy with:\n",
    "\n",
    " `my_array = np.array([1, 5, 0])`\n",
    "\n",
    "and a 2-d array with:\n",
    "\n",
    " `my_array = np.array([[4, 1, 2], [5, 5, 0]])`"
   ],
   "metadata": {
    "id": "5cTtht9W9kLj"
   }
  },
  {
   "cell_type": "code",
   "source": [
    "import numpy as np\n",
    "\n",
    "def find_nth_from_ends(array, n):\n",
    "    \"\"\"Returns the nth largest and smallest values in the array\n",
    "\n",
    "    Args:\n",
    "\n",
    "        array (ndarray): the array in question\n",
    "\n",
    "        n (int): how many numbers lower than max/higher than min to return\n",
    "\n",
    "\n",
    "    Returns:\n",
    "\n",
    "        float/int, float/int: nth largest value, nth smallest value (data type matches array)\n",
    "    \"\"\"\n",
    "\n",
    "    # Get unique values\n",
    "    unique_values = np.unique(array)\n",
    "\n",
    "    # Sort array from smallest to biggest\n",
    "    sorted_array = np.sort(unique_values, axis = None)\n",
    "\n",
    "    return sorted_array[-n], sorted_array[n - 1]"
   ],
   "metadata": {
    "id": "PNKWEFZGH6QW"
   },
   "execution_count": 25,
   "outputs": []
  },
  {
   "cell_type": "code",
   "source": [
    "# Write your assert statements (remember to have one assert statement per code cell)\n",
    "\n"
   ],
   "metadata": {
    "id": "qsx2u3QDIKqI"
   },
   "execution_count": 23,
   "outputs": []
  },
  {
   "cell_type": "markdown",
   "source": [
    "Did you find any errors in the function?\n",
    "\n",
    "<textarea name=\"comments\" id=\"comments\">\n",
    "...\n",
    "</textarea><br />\n",
    "<input type=\"submit\" value=\"Submit\" />"
   ],
   "metadata": {
    "id": "XleQYGyjIKKl"
   }
  },
  {
   "cell_type": "code",
   "source": [
    "# Our solution\n",
    "\n",
    "# One dimensional array\n",
    "a = np.array([4, 6, 8])\n",
    "outs = find_nth_from_ends(a, 2)\n",
    "assert outs == (6, 6)\n",
    "\n",
    "# Two dimensional array\n",
    "a = np.array([[4, 6, 8], [2, 1, 0]])\n",
    "outs = find_nth_from_ends(a, 2)\n",
    "assert outs == (6, 1)\n",
    "\n",
    "# All the same value\n",
    "a = np.zeros((6, 10 ,3))\n",
    "outs = find_nth_from_ends(a, 2)\n",
    "assert outs == (0, 0)\n",
    "\n",
    "# Negative n\n",
    "a = np.array([[4, 6, 8], [2, 1, 0]])\n",
    "outs = find_nth_from_ends(a, -1)\n",
    "assert outs == (6, 1)\n",
    "\n",
    "\n",
    "# Larger n than number of elements\n",
    "a = np.array([[4, 6, 8], [2, 1, 0]])\n",
    "outs = find_nth_from_ends(a, 10)\n",
    "\n",
    "\n",
    "def find_nth_from_ends(array, n):\n",
    "    \"\"\"Returns the nth largest and smallest values in the array\n",
    "\n",
    "    Args:\n",
    "\n",
    "        array (ndarray): the array in question\n",
    "\n",
    "        n (int): how many numbers lower than max/higher than min to return\n",
    "\n",
    "\n",
    "    Returns:\n",
    "\n",
    "        float/int, float/int: nth largest value, nth smallest value (data type matches array)\n",
    "    \"\"\"\n",
    "\n",
    "    # Get unique values\n",
    "    unique_values = np.unique(array)\n",
    "\n",
    "    # Sort array from smallest to biggest\n",
    "    sorted_array = np.sort(unique_values, axis = None)\n",
    "\n",
    "    # Check if n is larger than array size\n",
    "    if n > array.size:\n",
    "        print('n is bigger than the number of elements in the array')\n",
    "        return sorted_array[0], sorted_array[-1]\n",
    "    else:\n",
    "        return sorted_array[-n], sorted_array[n - 1]\n"
   ],
   "metadata": {
    "colab": {
     "base_uri": "https://localhost:8080/",
     "height": 329
    },
    "id": "afnw8EugH6XF",
    "outputId": "6224c189-3f7a-4efc-94d5-a2c321a3b4a3"
   },
   "execution_count": 27,
   "outputs": [
    {
     "output_type": "error",
     "ename": "IndexError",
     "evalue": "ignored",
     "traceback": [
      "\u001b[0;31m---------------------------------------------------------------------------\u001b[0m",
      "\u001b[0;31mIndexError\u001b[0m                                Traceback (most recent call last)",
      "\u001b[0;32m<ipython-input-27-db9fd1648111>\u001b[0m in \u001b[0;36m<cell line: 15>\u001b[0;34m()\u001b[0m\n\u001b[1;32m     13\u001b[0m \u001b[0;31m# All the same value\u001b[0m\u001b[0;34m\u001b[0m\u001b[0;34m\u001b[0m\u001b[0m\n\u001b[1;32m     14\u001b[0m \u001b[0ma\u001b[0m \u001b[0;34m=\u001b[0m \u001b[0mnp\u001b[0m\u001b[0;34m.\u001b[0m\u001b[0mzeros\u001b[0m\u001b[0;34m(\u001b[0m\u001b[0;34m(\u001b[0m\u001b[0;36m6\u001b[0m\u001b[0;34m,\u001b[0m \u001b[0;36m10\u001b[0m \u001b[0;34m,\u001b[0m\u001b[0;36m3\u001b[0m\u001b[0;34m)\u001b[0m\u001b[0;34m)\u001b[0m\u001b[0;34m\u001b[0m\u001b[0;34m\u001b[0m\u001b[0m\n\u001b[0;32m---> 15\u001b[0;31m \u001b[0mouts\u001b[0m \u001b[0;34m=\u001b[0m \u001b[0mfind_nth_from_ends\u001b[0m\u001b[0;34m(\u001b[0m\u001b[0ma\u001b[0m\u001b[0;34m,\u001b[0m \u001b[0;36m2\u001b[0m\u001b[0;34m)\u001b[0m\u001b[0;34m\u001b[0m\u001b[0;34m\u001b[0m\u001b[0m\n\u001b[0m\u001b[1;32m     16\u001b[0m \u001b[0;32massert\u001b[0m \u001b[0mouts\u001b[0m \u001b[0;34m==\u001b[0m \u001b[0;34m(\u001b[0m\u001b[0;36m0\u001b[0m\u001b[0;34m,\u001b[0m \u001b[0;36m0\u001b[0m\u001b[0;34m)\u001b[0m\u001b[0;34m\u001b[0m\u001b[0;34m\u001b[0m\u001b[0m\n\u001b[1;32m     17\u001b[0m \u001b[0;34m\u001b[0m\u001b[0m\n",
      "\u001b[0;32m<ipython-input-25-f585c9e8291f>\u001b[0m in \u001b[0;36mfind_nth_from_ends\u001b[0;34m(array, n)\u001b[0m\n\u001b[1;32m     22\u001b[0m     \u001b[0msorted_array\u001b[0m \u001b[0;34m=\u001b[0m \u001b[0mnp\u001b[0m\u001b[0;34m.\u001b[0m\u001b[0msort\u001b[0m\u001b[0;34m(\u001b[0m\u001b[0munique_values\u001b[0m\u001b[0;34m,\u001b[0m \u001b[0maxis\u001b[0m \u001b[0;34m=\u001b[0m \u001b[0;32mNone\u001b[0m\u001b[0;34m)\u001b[0m\u001b[0;34m\u001b[0m\u001b[0;34m\u001b[0m\u001b[0m\n\u001b[1;32m     23\u001b[0m \u001b[0;34m\u001b[0m\u001b[0m\n\u001b[0;32m---> 24\u001b[0;31m     \u001b[0;32mreturn\u001b[0m \u001b[0msorted_array\u001b[0m\u001b[0;34m[\u001b[0m\u001b[0;34m-\u001b[0m\u001b[0mn\u001b[0m\u001b[0;34m]\u001b[0m\u001b[0;34m,\u001b[0m \u001b[0msorted_array\u001b[0m\u001b[0;34m[\u001b[0m\u001b[0mn\u001b[0m \u001b[0;34m-\u001b[0m \u001b[0;36m1\u001b[0m\u001b[0;34m]\u001b[0m\u001b[0;34m\u001b[0m\u001b[0;34m\u001b[0m\u001b[0m\n\u001b[0m",
      "\u001b[0;31mIndexError\u001b[0m: index -2 is out of bounds for axis 0 with size 1"
     ]
    }
   ]
  },
  {
   "cell_type": "markdown",
   "source": [
    "Video live-coding solution above and talking through it."
   ],
   "metadata": {
    "id": "Hps1xXhq9LLQ"
   }
  },
  {
   "cell_type": "markdown",
   "source": [
    "# Advanced (optional) add-on: Using pytest in VSCode"
   ],
   "metadata": {
    "id": "AoQr5h7X5Ky8"
   }
  }
 ]
}