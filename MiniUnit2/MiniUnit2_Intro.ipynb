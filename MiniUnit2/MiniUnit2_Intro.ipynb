{
  "nbformat": 4,
  "nbformat_minor": 0,
  "metadata": {
    "colab": {
      "provenance": [],
      "authorship_tag": "ABX9TyMUq3nn7cW2aWNwkhWLk6Bt"
    },
    "kernelspec": {
      "name": "python3",
      "display_name": "Python 3"
    },
    "language_info": {
      "name": "python"
    }
  },
  "cells": [
    {
      "cell_type": "markdown",
      "source": [
        "# **Mini-unit #2: Writing clean scripts**\n",
        "\n",
        "> “Indeed, the ratio of time spent reading versus writing is well over 10 to 1. We are constantly reading old code as part of the effort to write new code. … Therefore, making it easy to read makes it easier to write.” – Robert C. Martin | Clean Code (p. 14)\n",
        "\n",
        "In this mini-unit, we will focus on the essential skill of writing readable and clean scripts (leaving functions and overall code base structure to a future mini-unit).\n",
        "\n",
        "Clean code is code that is easy to understand, maintain, and change. Writing readable and clean code will:\n",
        "* Save you time (quicker to understand what's happening when you come back to code and make edits)\n",
        "* Save others time if they look at or use your code\n",
        "* Increase the likelihood of spotting errors, since the code is easier to reason about\n",
        "\n",
        "\n"
      ],
      "metadata": {
        "id": "NvVJwfzxZfR2"
      }
    }
  ]
}