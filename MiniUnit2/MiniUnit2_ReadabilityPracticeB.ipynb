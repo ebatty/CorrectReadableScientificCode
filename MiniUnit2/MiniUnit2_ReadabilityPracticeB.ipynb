{
  "nbformat": 4,
  "nbformat_minor": 0,
  "metadata": {
    "colab": {
      "provenance": [],
      "toc_visible": true,
      "authorship_tag": "ABX9TyMvvihF4gIzIU228518/PE6"
    },
    "kernelspec": {
      "name": "python3",
      "display_name": "Python 3"
    },
    "language_info": {
      "name": "python"
    },
    "widgets": {
      "application/vnd.jupyter.widget-state+json": {
        "d4f9086cac914a13a752288396064918": {
          "model_module": "@jupyter-widgets/controls",
          "model_name": "TabModel",
          "model_module_version": "1.5.0",
          "state": {
            "_dom_classes": [],
            "_model_module": "@jupyter-widgets/controls",
            "_model_module_version": "1.5.0",
            "_model_name": "TabModel",
            "_titles": {
              "0": "Example A",
              "1": "Example B"
            },
            "_view_count": null,
            "_view_module": "@jupyter-widgets/controls",
            "_view_module_version": "1.5.0",
            "_view_name": "TabView",
            "box_style": "",
            "children": [
              "IPY_MODEL_a6baacd9970b4ce097c0ac569d7b4309",
              "IPY_MODEL_6afe52161333476b9b0b0844d8171903"
            ],
            "layout": "IPY_MODEL_3d25676e4a5f4d7eaf4bd95273d53421",
            "selected_index": 1
          }
        },
        "a6baacd9970b4ce097c0ac569d7b4309": {
          "model_module": "@jupyter-widgets/output",
          "model_name": "OutputModel",
          "model_module_version": "1.0.0",
          "state": {
            "_dom_classes": [],
            "_model_module": "@jupyter-widgets/output",
            "_model_module_version": "1.0.0",
            "_model_name": "OutputModel",
            "_view_count": null,
            "_view_module": "@jupyter-widgets/output",
            "_view_module_version": "1.0.0",
            "_view_name": "OutputView",
            "layout": "IPY_MODEL_299f92c707734ebda8dd07c5eb150a13",
            "msg_id": "",
            "outputs": [
              {
                "output_type": "display_data",
                "data": {
                  "text/plain": "print(*['Fizzbuzz' if ((num % 5 == 0) and (num % 3 == 0)) else 'Fizz' if num % 3 == 0 else 'Buzz' if num % 5 == 0 else 'Fizz' if num % 3 == 0 else num for num in range(1, 101)], sep='\n')",
                  "text/html": "<style>pre { line-height: 125%; }\ntd.linenos .normal { color: inherit; background-color: transparent; padding-left: 5px; padding-right: 5px; }\nspan.linenos { color: inherit; background-color: transparent; padding-left: 5px; padding-right: 5px; }\ntd.linenos .special { color: #000000; background-color: #ffffc0; padding-left: 5px; padding-right: 5px; }\nspan.linenos.special { color: #000000; background-color: #ffffc0; padding-left: 5px; padding-right: 5px; }\n.output_html .hll { background-color: #ffffcc }\n.output_html { background: #f8f8f8; }\n.output_html .c { color: #3D7B7B; font-style: italic } /* Comment */\n.output_html .err { border: 1px solid #FF0000 } /* Error */\n.output_html .k { color: #008000; font-weight: bold } /* Keyword */\n.output_html .o { color: #666666 } /* Operator */\n.output_html .ch { color: #3D7B7B; font-style: italic } /* Comment.Hashbang */\n.output_html .cm { color: #3D7B7B; font-style: italic } /* Comment.Multiline */\n.output_html .cp { color: #9C6500 } /* Comment.Preproc */\n.output_html .cpf { color: #3D7B7B; font-style: italic } /* Comment.PreprocFile */\n.output_html .c1 { color: #3D7B7B; font-style: italic } /* Comment.Single */\n.output_html .cs { color: #3D7B7B; font-style: italic } /* Comment.Special */\n.output_html .gd { color: #A00000 } /* Generic.Deleted */\n.output_html .ge { font-style: italic } /* Generic.Emph */\n.output_html .gr { color: #E40000 } /* Generic.Error */\n.output_html .gh { color: #000080; font-weight: bold } /* Generic.Heading */\n.output_html .gi { color: #008400 } /* Generic.Inserted */\n.output_html .go { color: #717171 } /* Generic.Output */\n.output_html .gp { color: #000080; font-weight: bold } /* Generic.Prompt */\n.output_html .gs { font-weight: bold } /* Generic.Strong */\n.output_html .gu { color: #800080; font-weight: bold } /* Generic.Subheading */\n.output_html .gt { color: #0044DD } /* Generic.Traceback */\n.output_html .kc { color: #008000; font-weight: bold } /* Keyword.Constant */\n.output_html .kd { color: #008000; font-weight: bold } /* Keyword.Declaration */\n.output_html .kn { color: #008000; font-weight: bold } /* Keyword.Namespace */\n.output_html .kp { color: #008000 } /* Keyword.Pseudo */\n.output_html .kr { color: #008000; font-weight: bold } /* Keyword.Reserved */\n.output_html .kt { color: #B00040 } /* Keyword.Type */\n.output_html .m { color: #666666 } /* Literal.Number */\n.output_html .s { color: #BA2121 } /* Literal.String */\n.output_html .na { color: #687822 } /* Name.Attribute */\n.output_html .nb { color: #008000 } /* Name.Builtin */\n.output_html .nc { color: #0000FF; font-weight: bold } /* Name.Class */\n.output_html .no { color: #880000 } /* Name.Constant */\n.output_html .nd { color: #AA22FF } /* Name.Decorator */\n.output_html .ni { color: #717171; font-weight: bold } /* Name.Entity */\n.output_html .ne { color: #CB3F38; font-weight: bold } /* Name.Exception */\n.output_html .nf { color: #0000FF } /* Name.Function */\n.output_html .nl { color: #767600 } /* Name.Label */\n.output_html .nn { color: #0000FF; font-weight: bold } /* Name.Namespace */\n.output_html .nt { color: #008000; font-weight: bold } /* Name.Tag */\n.output_html .nv { color: #19177C } /* Name.Variable */\n.output_html .ow { color: #AA22FF; font-weight: bold } /* Operator.Word */\n.output_html .w { color: #bbbbbb } /* Text.Whitespace */\n.output_html .mb { color: #666666 } /* Literal.Number.Bin */\n.output_html .mf { color: #666666 } /* Literal.Number.Float */\n.output_html .mh { color: #666666 } /* Literal.Number.Hex */\n.output_html .mi { color: #666666 } /* Literal.Number.Integer */\n.output_html .mo { color: #666666 } /* Literal.Number.Oct */\n.output_html .sa { color: #BA2121 } /* Literal.String.Affix */\n.output_html .sb { color: #BA2121 } /* Literal.String.Backtick */\n.output_html .sc { color: #BA2121 } /* Literal.String.Char */\n.output_html .dl { color: #BA2121 } /* Literal.String.Delimiter */\n.output_html .sd { color: #BA2121; font-style: italic } /* Literal.String.Doc */\n.output_html .s2 { color: #BA2121 } /* Literal.String.Double */\n.output_html .se { color: #AA5D1F; font-weight: bold } /* Literal.String.Escape */\n.output_html .sh { color: #BA2121 } /* Literal.String.Heredoc */\n.output_html .si { color: #A45A77; font-weight: bold } /* Literal.String.Interpol */\n.output_html .sx { color: #008000 } /* Literal.String.Other */\n.output_html .sr { color: #A45A77 } /* Literal.String.Regex */\n.output_html .s1 { color: #BA2121 } /* Literal.String.Single */\n.output_html .ss { color: #19177C } /* Literal.String.Symbol */\n.output_html .bp { color: #008000 } /* Name.Builtin.Pseudo */\n.output_html .fm { color: #0000FF } /* Name.Function.Magic */\n.output_html .vc { color: #19177C } /* Name.Variable.Class */\n.output_html .vg { color: #19177C } /* Name.Variable.Global */\n.output_html .vi { color: #19177C } /* Name.Variable.Instance */\n.output_html .vm { color: #19177C } /* Name.Variable.Magic */\n.output_html .il { color: #666666 } /* Literal.Number.Integer.Long */</style><div class=\"highlight\"><pre><span></span><span class=\"nv\">print</span><span class=\"ss\">(</span><span class=\"o\">*</span>[<span class=\"s1\">&#39;Fizzbuzz&#39;</span><span class=\"w\"> </span><span class=\"k\">if</span><span class=\"w\"> </span><span class=\"ss\">((</span><span class=\"nv\">num</span><span class=\"w\"> </span><span class=\"o\">%</span><span class=\"w\"> </span><span class=\"mi\">5</span><span class=\"w\"> </span><span class=\"o\">==</span><span class=\"w\"> </span><span class=\"mi\">0</span><span class=\"ss\">)</span><span class=\"w\"> </span><span class=\"nv\">and</span><span class=\"w\"> </span><span class=\"ss\">(</span><span class=\"nv\">num</span><span class=\"w\"> </span><span class=\"o\">%</span><span class=\"w\"> </span><span class=\"mi\">3</span><span class=\"w\"> </span><span class=\"o\">==</span><span class=\"w\"> </span><span class=\"mi\">0</span><span class=\"ss\">))</span><span class=\"w\"> </span><span class=\"k\">else</span><span class=\"w\"> </span><span class=\"s1\">&#39;Fizz&#39;</span><span class=\"w\"> </span><span class=\"k\">if</span><span class=\"w\"> </span><span class=\"nv\">num</span><span class=\"w\"> </span><span class=\"o\">%</span><span class=\"w\"> </span><span class=\"mi\">3</span><span class=\"w\"> </span><span class=\"o\">==</span><span class=\"w\"> </span><span class=\"mi\">0</span><span class=\"w\"> </span><span class=\"k\">else</span><span class=\"w\"> </span><span class=\"s1\">&#39;Buzz&#39;</span><span class=\"w\"> </span><span class=\"k\">if</span><span class=\"w\"> </span><span class=\"nv\">num</span><span class=\"w\"> </span><span class=\"o\">%</span><span class=\"w\"> </span><span class=\"mi\">5</span><span class=\"w\"> </span><span class=\"o\">==</span><span class=\"w\"> </span><span class=\"mi\">0</span><span class=\"w\"> </span><span class=\"k\">else</span><span class=\"w\"> </span><span class=\"s1\">&#39;Fizz&#39;</span><span class=\"w\"> </span><span class=\"k\">if</span><span class=\"w\"> </span><span class=\"nv\">num</span><span class=\"w\"> </span><span class=\"o\">%</span><span class=\"w\"> </span><span class=\"mi\">3</span><span class=\"w\"> </span><span class=\"o\">==</span><span class=\"w\"> </span><span class=\"mi\">0</span><span class=\"w\"> </span><span class=\"k\">else</span><span class=\"w\"> </span><span class=\"nv\">num</span><span class=\"w\"> </span><span class=\"k\">for</span><span class=\"w\"> </span><span class=\"nv\">num</span><span class=\"w\"> </span><span class=\"nv\">in</span><span class=\"w\"> </span><span class=\"nv\">range</span><span class=\"ss\">(</span><span class=\"mi\">1</span>,<span class=\"w\"> </span><span class=\"mi\">101</span><span class=\"ss\">)</span>],<span class=\"w\"> </span><span class=\"nv\">sep</span><span class=\"o\">=</span><span class=\"err\">&#39;</span>\n<span class=\"err\">&#39;)</span>\n</pre></div>\n",
                  "text/latex": "\\begin{Verbatim}[commandchars=\\\\\\{\\}]\n\\PY{n+nv}{print}\\PY{l+s+ss}{(}\\PY{o}{*}[\\PY{l+s+s1}{\\PYZsq{}Fizzbuzz\\PYZsq{}}\\PY{+w}{ }\\PY{k}{if}\\PY{+w}{ }\\PY{l+s+ss}{(}\\PY{l+s+ss}{(}\\PY{n+nv}{num}\\PY{+w}{ }\\PY{o}{\\PYZpc{}}\\PY{+w}{ }\\PY{l+m+mi}{5}\\PY{+w}{ }\\PY{o}{==}\\PY{+w}{ }\\PY{l+m+mi}{0}\\PY{l+s+ss}{)}\\PY{+w}{ }\\PY{n+nv}{and}\\PY{+w}{ }\\PY{l+s+ss}{(}\\PY{n+nv}{num}\\PY{+w}{ }\\PY{o}{\\PYZpc{}}\\PY{+w}{ }\\PY{l+m+mi}{3}\\PY{+w}{ }\\PY{o}{==}\\PY{+w}{ }\\PY{l+m+mi}{0}\\PY{l+s+ss}{)}\\PY{l+s+ss}{)}\\PY{+w}{ }\\PY{k}{else}\\PY{+w}{ }\\PY{l+s+s1}{\\PYZsq{}Fizz\\PYZsq{}}\\PY{+w}{ }\\PY{k}{if}\\PY{+w}{ }\\PY{n+nv}{num}\\PY{+w}{ }\\PY{o}{\\PYZpc{}}\\PY{+w}{ }\\PY{l+m+mi}{3}\\PY{+w}{ }\\PY{o}{==}\\PY{+w}{ }\\PY{l+m+mi}{0}\\PY{+w}{ }\\PY{k}{else}\\PY{+w}{ }\\PY{l+s+s1}{\\PYZsq{}Buzz\\PYZsq{}}\\PY{+w}{ }\\PY{k}{if}\\PY{+w}{ }\\PY{n+nv}{num}\\PY{+w}{ }\\PY{o}{\\PYZpc{}}\\PY{+w}{ }\\PY{l+m+mi}{5}\\PY{+w}{ }\\PY{o}{==}\\PY{+w}{ }\\PY{l+m+mi}{0}\\PY{+w}{ }\\PY{k}{else}\\PY{+w}{ }\\PY{l+s+s1}{\\PYZsq{}Fizz\\PYZsq{}}\\PY{+w}{ }\\PY{k}{if}\\PY{+w}{ }\\PY{n+nv}{num}\\PY{+w}{ }\\PY{o}{\\PYZpc{}}\\PY{+w}{ }\\PY{l+m+mi}{3}\\PY{+w}{ }\\PY{o}{==}\\PY{+w}{ }\\PY{l+m+mi}{0}\\PY{+w}{ }\\PY{k}{else}\\PY{+w}{ }\\PY{n+nv}{num}\\PY{+w}{ }\\PY{k}{for}\\PY{+w}{ }\\PY{n+nv}{num}\\PY{+w}{ }\\PY{n+nv}{in}\\PY{+w}{ }\\PY{n+nv}{range}\\PY{l+s+ss}{(}\\PY{l+m+mi}{1},\\PY{+w}{ }\\PY{l+m+mi}{101}\\PY{l+s+ss}{)}],\\PY{+w}{ }\\PY{n+nv}{sep}\\PY{o}{=}\\PY{err}{\\PYZsq{}}\n\\PY{err}{\\PYZsq{})}\n\\end{Verbatim}\n"
                },
                "metadata": {}
              },
              {
                "output_type": "stream",
                "name": "stdout",
                "text": [
                  "\n",
                  " \n",
                  "What hurts the readability of this code?\n"
                ]
              },
              {
                "output_type": "display_data",
                "data": {
                  "text/plain": "Text(value='', placeholder='...')",
                  "application/vnd.jupyter.widget-view+json": {
                    "version_major": 2,
                    "version_minor": 0,
                    "model_id": "159880d49280403489af0a29054256ab"
                  }
                },
                "metadata": {}
              }
            ]
          }
        },
        "6afe52161333476b9b0b0844d8171903": {
          "model_module": "@jupyter-widgets/output",
          "model_name": "OutputModel",
          "model_module_version": "1.0.0",
          "state": {
            "_dom_classes": [],
            "_model_module": "@jupyter-widgets/output",
            "_model_module_version": "1.0.0",
            "_model_name": "OutputModel",
            "_view_count": null,
            "_view_module": "@jupyter-widgets/output",
            "_view_module_version": "1.0.0",
            "_view_name": "OutputView",
            "layout": "IPY_MODEL_2675378cef1841db888c24de9a1eca53",
            "msg_id": "",
            "outputs": [
              {
                "output_type": "display_data",
                "data": {
                  "text/plain": "is_member_of_bank = True    \nincome = 40000    \ncredit_score = 400    \nage = 23    \nif age >= 18:    \n    if income >= 25000:    \n        if credit_score >= 600:    \n            if is_member_of_bank:    \n                print('Eligible for credit card')    \n            else:    \n                print('Ineligible: not a bank member')    \n        else:    \n                print('Ineligible: low credit score')    \n    else:    \n        print('Ineligible: low income level')    \nelse:    \n    print('Ineligible: not old enough')",
                  "text/html": "<style>pre { line-height: 125%; }\ntd.linenos .normal { color: inherit; background-color: transparent; padding-left: 5px; padding-right: 5px; }\nspan.linenos { color: inherit; background-color: transparent; padding-left: 5px; padding-right: 5px; }\ntd.linenos .special { color: #000000; background-color: #ffffc0; padding-left: 5px; padding-right: 5px; }\nspan.linenos.special { color: #000000; background-color: #ffffc0; padding-left: 5px; padding-right: 5px; }\n.output_html .hll { background-color: #ffffcc }\n.output_html { background: #f8f8f8; }\n.output_html .c { color: #3D7B7B; font-style: italic } /* Comment */\n.output_html .err { border: 1px solid #FF0000 } /* Error */\n.output_html .k { color: #008000; font-weight: bold } /* Keyword */\n.output_html .o { color: #666666 } /* Operator */\n.output_html .ch { color: #3D7B7B; font-style: italic } /* Comment.Hashbang */\n.output_html .cm { color: #3D7B7B; font-style: italic } /* Comment.Multiline */\n.output_html .cp { color: #9C6500 } /* Comment.Preproc */\n.output_html .cpf { color: #3D7B7B; font-style: italic } /* Comment.PreprocFile */\n.output_html .c1 { color: #3D7B7B; font-style: italic } /* Comment.Single */\n.output_html .cs { color: #3D7B7B; font-style: italic } /* Comment.Special */\n.output_html .gd { color: #A00000 } /* Generic.Deleted */\n.output_html .ge { font-style: italic } /* Generic.Emph */\n.output_html .gr { color: #E40000 } /* Generic.Error */\n.output_html .gh { color: #000080; font-weight: bold } /* Generic.Heading */\n.output_html .gi { color: #008400 } /* Generic.Inserted */\n.output_html .go { color: #717171 } /* Generic.Output */\n.output_html .gp { color: #000080; font-weight: bold } /* Generic.Prompt */\n.output_html .gs { font-weight: bold } /* Generic.Strong */\n.output_html .gu { color: #800080; font-weight: bold } /* Generic.Subheading */\n.output_html .gt { color: #0044DD } /* Generic.Traceback */\n.output_html .kc { color: #008000; font-weight: bold } /* Keyword.Constant */\n.output_html .kd { color: #008000; font-weight: bold } /* Keyword.Declaration */\n.output_html .kn { color: #008000; font-weight: bold } /* Keyword.Namespace */\n.output_html .kp { color: #008000 } /* Keyword.Pseudo */\n.output_html .kr { color: #008000; font-weight: bold } /* Keyword.Reserved */\n.output_html .kt { color: #B00040 } /* Keyword.Type */\n.output_html .m { color: #666666 } /* Literal.Number */\n.output_html .s { color: #BA2121 } /* Literal.String */\n.output_html .na { color: #687822 } /* Name.Attribute */\n.output_html .nb { color: #008000 } /* Name.Builtin */\n.output_html .nc { color: #0000FF; font-weight: bold } /* Name.Class */\n.output_html .no { color: #880000 } /* Name.Constant */\n.output_html .nd { color: #AA22FF } /* Name.Decorator */\n.output_html .ni { color: #717171; font-weight: bold } /* Name.Entity */\n.output_html .ne { color: #CB3F38; font-weight: bold } /* Name.Exception */\n.output_html .nf { color: #0000FF } /* Name.Function */\n.output_html .nl { color: #767600 } /* Name.Label */\n.output_html .nn { color: #0000FF; font-weight: bold } /* Name.Namespace */\n.output_html .nt { color: #008000; font-weight: bold } /* Name.Tag */\n.output_html .nv { color: #19177C } /* Name.Variable */\n.output_html .ow { color: #AA22FF; font-weight: bold } /* Operator.Word */\n.output_html .w { color: #bbbbbb } /* Text.Whitespace */\n.output_html .mb { color: #666666 } /* Literal.Number.Bin */\n.output_html .mf { color: #666666 } /* Literal.Number.Float */\n.output_html .mh { color: #666666 } /* Literal.Number.Hex */\n.output_html .mi { color: #666666 } /* Literal.Number.Integer */\n.output_html .mo { color: #666666 } /* Literal.Number.Oct */\n.output_html .sa { color: #BA2121 } /* Literal.String.Affix */\n.output_html .sb { color: #BA2121 } /* Literal.String.Backtick */\n.output_html .sc { color: #BA2121 } /* Literal.String.Char */\n.output_html .dl { color: #BA2121 } /* Literal.String.Delimiter */\n.output_html .sd { color: #BA2121; font-style: italic } /* Literal.String.Doc */\n.output_html .s2 { color: #BA2121 } /* Literal.String.Double */\n.output_html .se { color: #AA5D1F; font-weight: bold } /* Literal.String.Escape */\n.output_html .sh { color: #BA2121 } /* Literal.String.Heredoc */\n.output_html .si { color: #A45A77; font-weight: bold } /* Literal.String.Interpol */\n.output_html .sx { color: #008000 } /* Literal.String.Other */\n.output_html .sr { color: #A45A77 } /* Literal.String.Regex */\n.output_html .s1 { color: #BA2121 } /* Literal.String.Single */\n.output_html .ss { color: #19177C } /* Literal.String.Symbol */\n.output_html .bp { color: #008000 } /* Name.Builtin.Pseudo */\n.output_html .fm { color: #0000FF } /* Name.Function.Magic */\n.output_html .vc { color: #19177C } /* Name.Variable.Class */\n.output_html .vg { color: #19177C } /* Name.Variable.Global */\n.output_html .vi { color: #19177C } /* Name.Variable.Instance */\n.output_html .vm { color: #19177C } /* Name.Variable.Magic */\n.output_html .il { color: #666666 } /* Literal.Number.Integer.Long */</style><div class=\"highlight\"><pre><span></span><span class=\"nv\">is_member_of_bank</span><span class=\"w\"> </span><span class=\"o\">=</span><span class=\"w\"> </span><span class=\"nv\">True</span><span class=\"w\">    </span>\n<span class=\"nv\">income</span><span class=\"w\"> </span><span class=\"o\">=</span><span class=\"w\"> </span><span class=\"mi\">40000</span><span class=\"w\">    </span>\n<span class=\"nv\">credit_score</span><span class=\"w\"> </span><span class=\"o\">=</span><span class=\"w\"> </span><span class=\"mi\">400</span><span class=\"w\">    </span>\n<span class=\"nv\">age</span><span class=\"w\"> </span><span class=\"o\">=</span><span class=\"w\"> </span><span class=\"mi\">23</span><span class=\"w\">    </span>\n<span class=\"k\">if</span><span class=\"w\"> </span><span class=\"nv\">age</span><span class=\"w\"> </span><span class=\"o\">&gt;=</span><span class=\"w\"> </span><span class=\"mi\">18</span>:<span class=\"w\">    </span>\n<span class=\"w\">    </span><span class=\"k\">if</span><span class=\"w\"> </span><span class=\"nv\">income</span><span class=\"w\"> </span><span class=\"o\">&gt;=</span><span class=\"w\"> </span><span class=\"mi\">25000</span>:<span class=\"w\">    </span>\n<span class=\"w\">        </span><span class=\"k\">if</span><span class=\"w\"> </span><span class=\"nv\">credit_score</span><span class=\"w\"> </span><span class=\"o\">&gt;=</span><span class=\"w\"> </span><span class=\"mi\">600</span>:<span class=\"w\">    </span>\n<span class=\"w\">            </span><span class=\"k\">if</span><span class=\"w\"> </span><span class=\"nv\">is_member_of_bank</span>:<span class=\"w\">    </span>\n<span class=\"w\">                </span><span class=\"nv\">print</span><span class=\"ss\">(</span><span class=\"s1\">&#39;Eligible for credit card&#39;</span><span class=\"ss\">)</span><span class=\"w\">    </span>\n<span class=\"w\">            </span><span class=\"k\">else</span>:<span class=\"w\">    </span>\n<span class=\"w\">                </span><span class=\"nv\">print</span><span class=\"ss\">(</span><span class=\"s1\">&#39;Ineligible: not a bank member&#39;</span><span class=\"ss\">)</span><span class=\"w\">    </span>\n<span class=\"w\">        </span><span class=\"k\">else</span>:<span class=\"w\">    </span>\n<span class=\"w\">                </span><span class=\"nv\">print</span><span class=\"ss\">(</span><span class=\"s1\">&#39;Ineligible: low credit score&#39;</span><span class=\"ss\">)</span><span class=\"w\">    </span>\n<span class=\"w\">    </span><span class=\"k\">else</span>:<span class=\"w\">    </span>\n<span class=\"w\">        </span><span class=\"nv\">print</span><span class=\"ss\">(</span><span class=\"s1\">&#39;Ineligible: low income level&#39;</span><span class=\"ss\">)</span><span class=\"w\">    </span>\n<span class=\"k\">else</span>:<span class=\"w\">    </span>\n<span class=\"w\">    </span><span class=\"nv\">print</span><span class=\"ss\">(</span><span class=\"s1\">&#39;Ineligible: not old enough&#39;</span><span class=\"ss\">)</span>\n</pre></div>\n",
                  "text/latex": "\\begin{Verbatim}[commandchars=\\\\\\{\\}]\n\\PY{n+nv}{is\\PYZus{}member\\PYZus{}of\\PYZus{}bank}\\PY{+w}{ }\\PY{o}{=}\\PY{+w}{ }\\PY{n+nv}{True}\\PY{+w}{    }\n\\PY{n+nv}{income}\\PY{+w}{ }\\PY{o}{=}\\PY{+w}{ }\\PY{l+m+mi}{40000}\\PY{+w}{    }\n\\PY{n+nv}{credit\\PYZus{}score}\\PY{+w}{ }\\PY{o}{=}\\PY{+w}{ }\\PY{l+m+mi}{400}\\PY{+w}{    }\n\\PY{n+nv}{age}\\PY{+w}{ }\\PY{o}{=}\\PY{+w}{ }\\PY{l+m+mi}{23}\\PY{+w}{    }\n\\PY{k}{if}\\PY{+w}{ }\\PY{n+nv}{age}\\PY{+w}{ }\\PY{o}{\\PYZgt{}=}\\PY{+w}{ }\\PY{l+m+mi}{18}:\\PY{+w}{    }\n\\PY{+w}{    }\\PY{k}{if}\\PY{+w}{ }\\PY{n+nv}{income}\\PY{+w}{ }\\PY{o}{\\PYZgt{}=}\\PY{+w}{ }\\PY{l+m+mi}{25000}:\\PY{+w}{    }\n\\PY{+w}{        }\\PY{k}{if}\\PY{+w}{ }\\PY{n+nv}{credit\\PYZus{}score}\\PY{+w}{ }\\PY{o}{\\PYZgt{}=}\\PY{+w}{ }\\PY{l+m+mi}{600}:\\PY{+w}{    }\n\\PY{+w}{            }\\PY{k}{if}\\PY{+w}{ }\\PY{n+nv}{is\\PYZus{}member\\PYZus{}of\\PYZus{}bank}:\\PY{+w}{    }\n\\PY{+w}{                }\\PY{n+nv}{print}\\PY{l+s+ss}{(}\\PY{l+s+s1}{\\PYZsq{}Eligible for credit card\\PYZsq{}}\\PY{l+s+ss}{)}\\PY{+w}{    }\n\\PY{+w}{            }\\PY{k}{else}:\\PY{+w}{    }\n\\PY{+w}{                }\\PY{n+nv}{print}\\PY{l+s+ss}{(}\\PY{l+s+s1}{\\PYZsq{}Ineligible: not a bank member\\PYZsq{}}\\PY{l+s+ss}{)}\\PY{+w}{    }\n\\PY{+w}{        }\\PY{k}{else}:\\PY{+w}{    }\n\\PY{+w}{                }\\PY{n+nv}{print}\\PY{l+s+ss}{(}\\PY{l+s+s1}{\\PYZsq{}Ineligible: low credit score\\PYZsq{}}\\PY{l+s+ss}{)}\\PY{+w}{    }\n\\PY{+w}{    }\\PY{k}{else}:\\PY{+w}{    }\n\\PY{+w}{        }\\PY{n+nv}{print}\\PY{l+s+ss}{(}\\PY{l+s+s1}{\\PYZsq{}Ineligible: low income level\\PYZsq{}}\\PY{l+s+ss}{)}\\PY{+w}{    }\n\\PY{k}{else}:\\PY{+w}{    }\n\\PY{+w}{    }\\PY{n+nv}{print}\\PY{l+s+ss}{(}\\PY{l+s+s1}{\\PYZsq{}Ineligible: not old enough\\PYZsq{}}\\PY{l+s+ss}{)}\n\\end{Verbatim}\n"
                },
                "metadata": {}
              },
              {
                "output_type": "stream",
                "name": "stdout",
                "text": [
                  "\n",
                  " \n",
                  "What hurts the readability of this code?\n"
                ]
              },
              {
                "output_type": "display_data",
                "data": {
                  "text/plain": "Text(value='', placeholder='...')",
                  "application/vnd.jupyter.widget-view+json": {
                    "version_major": 2,
                    "version_minor": 0,
                    "model_id": "654840f875474009b1e583654cf7376d"
                  }
                },
                "metadata": {}
              }
            ]
          }
        },
        "3d25676e4a5f4d7eaf4bd95273d53421": {
          "model_module": "@jupyter-widgets/base",
          "model_name": "LayoutModel",
          "model_module_version": "1.2.0",
          "state": {
            "_model_module": "@jupyter-widgets/base",
            "_model_module_version": "1.2.0",
            "_model_name": "LayoutModel",
            "_view_count": null,
            "_view_module": "@jupyter-widgets/base",
            "_view_module_version": "1.2.0",
            "_view_name": "LayoutView",
            "align_content": null,
            "align_items": null,
            "align_self": null,
            "border": null,
            "bottom": null,
            "display": null,
            "flex": null,
            "flex_flow": null,
            "grid_area": null,
            "grid_auto_columns": null,
            "grid_auto_flow": null,
            "grid_auto_rows": null,
            "grid_column": null,
            "grid_gap": null,
            "grid_row": null,
            "grid_template_areas": null,
            "grid_template_columns": null,
            "grid_template_rows": null,
            "height": null,
            "justify_content": null,
            "justify_items": null,
            "left": null,
            "margin": null,
            "max_height": null,
            "max_width": null,
            "min_height": null,
            "min_width": null,
            "object_fit": null,
            "object_position": null,
            "order": null,
            "overflow": null,
            "overflow_x": null,
            "overflow_y": null,
            "padding": null,
            "right": null,
            "top": null,
            "visibility": null,
            "width": null
          }
        },
        "299f92c707734ebda8dd07c5eb150a13": {
          "model_module": "@jupyter-widgets/base",
          "model_name": "LayoutModel",
          "model_module_version": "1.2.0",
          "state": {
            "_model_module": "@jupyter-widgets/base",
            "_model_module_version": "1.2.0",
            "_model_name": "LayoutModel",
            "_view_count": null,
            "_view_module": "@jupyter-widgets/base",
            "_view_module_version": "1.2.0",
            "_view_name": "LayoutView",
            "align_content": null,
            "align_items": null,
            "align_self": null,
            "border": null,
            "bottom": null,
            "display": null,
            "flex": null,
            "flex_flow": null,
            "grid_area": null,
            "grid_auto_columns": null,
            "grid_auto_flow": null,
            "grid_auto_rows": null,
            "grid_column": null,
            "grid_gap": null,
            "grid_row": null,
            "grid_template_areas": null,
            "grid_template_columns": null,
            "grid_template_rows": null,
            "height": null,
            "justify_content": null,
            "justify_items": null,
            "left": null,
            "margin": null,
            "max_height": null,
            "max_width": null,
            "min_height": null,
            "min_width": null,
            "object_fit": null,
            "object_position": null,
            "order": null,
            "overflow": null,
            "overflow_x": null,
            "overflow_y": null,
            "padding": null,
            "right": null,
            "top": null,
            "visibility": null,
            "width": null
          }
        },
        "2675378cef1841db888c24de9a1eca53": {
          "model_module": "@jupyter-widgets/base",
          "model_name": "LayoutModel",
          "model_module_version": "1.2.0",
          "state": {
            "_model_module": "@jupyter-widgets/base",
            "_model_module_version": "1.2.0",
            "_model_name": "LayoutModel",
            "_view_count": null,
            "_view_module": "@jupyter-widgets/base",
            "_view_module_version": "1.2.0",
            "_view_name": "LayoutView",
            "align_content": null,
            "align_items": null,
            "align_self": null,
            "border": null,
            "bottom": null,
            "display": null,
            "flex": null,
            "flex_flow": null,
            "grid_area": null,
            "grid_auto_columns": null,
            "grid_auto_flow": null,
            "grid_auto_rows": null,
            "grid_column": null,
            "grid_gap": null,
            "grid_row": null,
            "grid_template_areas": null,
            "grid_template_columns": null,
            "grid_template_rows": null,
            "height": null,
            "justify_content": null,
            "justify_items": null,
            "left": null,
            "margin": null,
            "max_height": null,
            "max_width": null,
            "min_height": null,
            "min_width": null,
            "object_fit": null,
            "object_position": null,
            "order": null,
            "overflow": null,
            "overflow_x": null,
            "overflow_y": null,
            "padding": null,
            "right": null,
            "top": null,
            "visibility": null,
            "width": null
          }
        },
        "159880d49280403489af0a29054256ab": {
          "model_module": "@jupyter-widgets/controls",
          "model_name": "TextModel",
          "model_module_version": "1.5.0",
          "state": {
            "_dom_classes": [],
            "_model_module": "@jupyter-widgets/controls",
            "_model_module_version": "1.5.0",
            "_model_name": "TextModel",
            "_view_count": null,
            "_view_module": "@jupyter-widgets/controls",
            "_view_module_version": "1.5.0",
            "_view_name": "TextView",
            "continuous_update": true,
            "description": "",
            "description_tooltip": null,
            "disabled": false,
            "layout": "IPY_MODEL_206be01c7b0746ffb6833ffa6d6f7196",
            "placeholder": "...",
            "style": "IPY_MODEL_2df75231e2a24ae3bf32c0b6401619b4",
            "value": ""
          }
        },
        "654840f875474009b1e583654cf7376d": {
          "model_module": "@jupyter-widgets/controls",
          "model_name": "TextModel",
          "model_module_version": "1.5.0",
          "state": {
            "_dom_classes": [],
            "_model_module": "@jupyter-widgets/controls",
            "_model_module_version": "1.5.0",
            "_model_name": "TextModel",
            "_view_count": null,
            "_view_module": "@jupyter-widgets/controls",
            "_view_module_version": "1.5.0",
            "_view_name": "TextView",
            "continuous_update": true,
            "description": "",
            "description_tooltip": null,
            "disabled": false,
            "layout": "IPY_MODEL_6a7beb3f56a94ef6a2b5346e9c16673a",
            "placeholder": "...",
            "style": "IPY_MODEL_bc7911ffce174dc9aad52fb29c5a73bb",
            "value": ""
          }
        },
        "206be01c7b0746ffb6833ffa6d6f7196": {
          "model_module": "@jupyter-widgets/base",
          "model_name": "LayoutModel",
          "model_module_version": "1.2.0",
          "state": {
            "_model_module": "@jupyter-widgets/base",
            "_model_module_version": "1.2.0",
            "_model_name": "LayoutModel",
            "_view_count": null,
            "_view_module": "@jupyter-widgets/base",
            "_view_module_version": "1.2.0",
            "_view_name": "LayoutView",
            "align_content": null,
            "align_items": null,
            "align_self": null,
            "border": null,
            "bottom": null,
            "display": null,
            "flex": null,
            "flex_flow": null,
            "grid_area": null,
            "grid_auto_columns": null,
            "grid_auto_flow": null,
            "grid_auto_rows": null,
            "grid_column": null,
            "grid_gap": null,
            "grid_row": null,
            "grid_template_areas": null,
            "grid_template_columns": null,
            "grid_template_rows": null,
            "height": null,
            "justify_content": null,
            "justify_items": null,
            "left": null,
            "margin": null,
            "max_height": null,
            "max_width": null,
            "min_height": null,
            "min_width": null,
            "object_fit": null,
            "object_position": null,
            "order": null,
            "overflow": null,
            "overflow_x": null,
            "overflow_y": null,
            "padding": null,
            "right": null,
            "top": null,
            "visibility": null,
            "width": null
          }
        },
        "2df75231e2a24ae3bf32c0b6401619b4": {
          "model_module": "@jupyter-widgets/controls",
          "model_name": "DescriptionStyleModel",
          "model_module_version": "1.5.0",
          "state": {
            "_model_module": "@jupyter-widgets/controls",
            "_model_module_version": "1.5.0",
            "_model_name": "DescriptionStyleModel",
            "_view_count": null,
            "_view_module": "@jupyter-widgets/base",
            "_view_module_version": "1.2.0",
            "_view_name": "StyleView",
            "description_width": ""
          }
        },
        "6a7beb3f56a94ef6a2b5346e9c16673a": {
          "model_module": "@jupyter-widgets/base",
          "model_name": "LayoutModel",
          "model_module_version": "1.2.0",
          "state": {
            "_model_module": "@jupyter-widgets/base",
            "_model_module_version": "1.2.0",
            "_model_name": "LayoutModel",
            "_view_count": null,
            "_view_module": "@jupyter-widgets/base",
            "_view_module_version": "1.2.0",
            "_view_name": "LayoutView",
            "align_content": null,
            "align_items": null,
            "align_self": null,
            "border": null,
            "bottom": null,
            "display": null,
            "flex": null,
            "flex_flow": null,
            "grid_area": null,
            "grid_auto_columns": null,
            "grid_auto_flow": null,
            "grid_auto_rows": null,
            "grid_column": null,
            "grid_gap": null,
            "grid_row": null,
            "grid_template_areas": null,
            "grid_template_columns": null,
            "grid_template_rows": null,
            "height": null,
            "justify_content": null,
            "justify_items": null,
            "left": null,
            "margin": null,
            "max_height": null,
            "max_width": null,
            "min_height": null,
            "min_width": null,
            "object_fit": null,
            "object_position": null,
            "order": null,
            "overflow": null,
            "overflow_x": null,
            "overflow_y": null,
            "padding": null,
            "right": null,
            "top": null,
            "visibility": null,
            "width": null
          }
        },
        "bc7911ffce174dc9aad52fb29c5a73bb": {
          "model_module": "@jupyter-widgets/controls",
          "model_name": "DescriptionStyleModel",
          "model_module_version": "1.5.0",
          "state": {
            "_model_module": "@jupyter-widgets/controls",
            "_model_module_version": "1.5.0",
            "_model_name": "DescriptionStyleModel",
            "_view_count": null,
            "_view_module": "@jupyter-widgets/base",
            "_view_module_version": "1.2.0",
            "_view_name": "StyleView",
            "description_width": ""
          }
        }
      }
    }
  },
  "cells": [
    {
      "cell_type": "markdown",
      "source": [
        "# Readability Practice B\n",
        "\n",
        "\n"
      ],
      "metadata": {
        "id": "NvVJwfzxZfR2"
      }
    },
    {
      "cell_type": "markdown",
      "source": [
        "## Brainstorming Exercise: Evaluating Readability\n"
      ],
      "metadata": {
        "id": "TRQb4b3o0mcS"
      }
    },
    {
      "cell_type": "markdown",
      "source": [
        "\n",
        "\n",
        "Please look at each of the code snippets(example A and example B). For each, try to identify what hurts the readability of the code. What parts of the code are unclear or take you a little extra time to understand?\n"
      ],
      "metadata": {
        "id": "yin8FcLqZrV_"
      }
    },
    {
      "cell_type": "code",
      "source": [
        "# @markdown\n",
        "from ipywidgets import widgets\n",
        "from IPython.display import display\n",
        "from IPython.display import Code\n",
        "\n",
        "example_A = widgets.Output()\n",
        "with example_A:\n",
        "  code_str = \"print(*['Fizzbuzz' if ((num % 5 == 0) and (num % 3 == 0)) else 'Fizz' if num % 3 == 0 else 'Buzz' if num % 5 == 0 else 'Fizz' if num % 3 == 0 else num for num in range(1, 101)], sep='\\n')\"\n",
        "  display(Code(code_str))\n",
        "  print('\\n \\nWhat hurts the readability of this code?')\n",
        "  txt = widgets.Text(\n",
        "        value='',\n",
        "        placeholder='...',\n",
        "    )\n",
        "  display(txt)\n",
        "\n",
        "example_B = widgets.Output()\n",
        "with example_B:\n",
        "  code_str = \"is_member_of_bank = True \\\n",
        "   \\nincome = 40000 \\\n",
        "   \\ncredit_score = 400 \\\n",
        "   \\nage = 23 \\\n",
        "   \\nif age >= 18: \\\n",
        "   \\n    if income >= 25000: \\\n",
        "   \\n        if credit_score >= 600: \\\n",
        "   \\n            if is_member_of_bank: \\\n",
        "   \\n                print('Eligible for credit card') \\\n",
        "   \\n            else: \\\n",
        "   \\n                print('Ineligible: not a bank member') \\\n",
        "   \\n        else: \\\n",
        "   \\n                print('Ineligible: low credit score') \\\n",
        "   \\n    else: \\\n",
        "   \\n        print('Ineligible: low income level') \\\n",
        "   \\nelse: \\\n",
        "   \\n    print('Ineligible: not old enough')\"\n",
        "\n",
        "  display(Code(code_str))\n",
        "  print('\\n \\nWhat hurts the readability of this code?')\n",
        "  txt = widgets.Text(\n",
        "        value='',\n",
        "        placeholder='...',\n",
        "    )\n",
        "  display(txt)\n",
        "\n",
        "tabs = widgets.Tab()\n",
        "tabs.children = [example_A, example_B]\n",
        "tabs.set_title(0, 'Example A')\n",
        "tabs.set_title(1, 'Example B')\n",
        "display(tabs)"
      ],
      "metadata": {
        "colab": {
          "base_uri": "https://localhost:8080/",
          "height": 461,
          "referenced_widgets": [
            "d4f9086cac914a13a752288396064918",
            "a6baacd9970b4ce097c0ac569d7b4309",
            "6afe52161333476b9b0b0844d8171903",
            "3d25676e4a5f4d7eaf4bd95273d53421",
            "299f92c707734ebda8dd07c5eb150a13",
            "2675378cef1841db888c24de9a1eca53",
            "159880d49280403489af0a29054256ab",
            "654840f875474009b1e583654cf7376d",
            "206be01c7b0746ffb6833ffa6d6f7196",
            "2df75231e2a24ae3bf32c0b6401619b4",
            "6a7beb3f56a94ef6a2b5346e9c16673a",
            "bc7911ffce174dc9aad52fb29c5a73bb"
          ]
        },
        "id": "TYmZz5dEZhAG",
        "outputId": "4d419c9d-2d5e-4b21-b504-ceb7cafc512a"
      },
      "execution_count": 22,
      "outputs": [
        {
          "output_type": "display_data",
          "data": {
            "text/plain": [
              "Tab(children=(Output(), Output()), _titles={'0': 'Example A', '1': 'Example B'})"
            ],
            "application/vnd.jupyter.widget-view+json": {
              "version_major": 2,
              "version_minor": 0,
              "model_id": "d4f9086cac914a13a752288396064918"
            }
          },
          "metadata": {}
        }
      ]
    },
    {
      "cell_type": "markdown",
      "source": [
        "## Video: Readability Practice B"
      ],
      "metadata": {
        "id": "qKeKbf1CoilE"
      }
    },
    {
      "cell_type": "code",
      "source": [
        "# @markdown\n",
        "\n",
        "from IPython.display import YouTubeVideo\n",
        "video_id = 'oAV1oO1Flwk'\n",
        "video = YouTubeVideo(id=video_id, width=854,\n",
        "                      height=480, fs=1, rel=0)\n",
        "print(f'Video available at https://youtube.com/watch?v={video_id}')\n",
        "\n",
        "display(video)"
      ],
      "metadata": {
        "id": "PfUMJesKojui",
        "colab": {
          "base_uri": "https://localhost:8080/",
          "height": 519
        },
        "cellView": "form",
        "outputId": "8e6ab925-c48d-4d25-8abd-b8c85e1b4261"
      },
      "execution_count": null,
      "outputs": [
        {
          "output_type": "stream",
          "name": "stdout",
          "text": [
            "Video available at https://youtube.com/watch?v=oAV1oO1Flwk\n"
          ]
        },
        {
          "output_type": "display_data",
          "data": {
            "text/plain": [
              "<IPython.lib.display.YouTubeVideo at 0x7fc1aa128ac0>"
            ],
            "text/html": [
              "\n",
              "        <iframe\n",
              "            width=\"854\"\n",
              "            height=\"480\"\n",
              "            src=\"https://www.youtube.com/embed/oAV1oO1Flwk?fs=1&rel=0\"\n",
              "            frameborder=\"0\"\n",
              "            allowfullscreen\n",
              "            \n",
              "        ></iframe>\n",
              "        "
            ]
          },
          "metadata": {}
        }
      ]
    },
    {
      "cell_type": "markdown",
      "source": [
        "## Interactive Exercise: Putting it into practice\n",
        "\n",
        "For each example below, identify what makes it less readable and then try to update the code to fix this."
      ],
      "metadata": {
        "id": "dKVisiGF6DMu"
      }
    },
    {
      "cell_type": "markdown",
      "source": [
        "## Recap\n",
        "\n",
        "**KEEP IT SHORT & SIMPLE**\n",
        "\n",
        "- Keep each line of code short\n",
        "- Avoid overly clever code (prioritize readability over minimizing lines of code)\n",
        "- Avoid overly nested code\n",
        "\n",
        "\n",
        "\n"
      ],
      "metadata": {
        "id": "RVshX92iQQ_l"
      }
    }
  ]
}