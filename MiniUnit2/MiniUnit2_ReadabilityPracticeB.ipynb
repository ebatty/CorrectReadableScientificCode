{
  "nbformat": 4,
  "nbformat_minor": 0,
  "metadata": {
    "colab": {
      "provenance": [],
      "toc_visible": true,
      "authorship_tag": "ABX9TyORMP5knq3wn/mh6TVnknwq"
    },
    "kernelspec": {
      "name": "python3",
      "display_name": "Python 3"
    },
    "language_info": {
      "name": "python"
    }
  },
  "cells": [
    {
      "cell_type": "markdown",
      "source": [
        "# Keep it short and simple\n",
        "\n",
        "\n"
      ],
      "metadata": {
        "id": "NvVJwfzxZfR2"
      }
    },
    {
      "cell_type": "markdown",
      "source": [
        "## Video\n",
        "\n",
        "This video is from an outdated version but from 10:00 is basically the video that would appear here."
      ],
      "metadata": {
        "id": "qKeKbf1CoilE"
      }
    },
    {
      "cell_type": "code",
      "source": [
        "# @markdown\n",
        "\n",
        "from IPython.display import YouTubeVideo\n",
        "video_id = 'oAV1oO1Flwk'\n",
        "video = YouTubeVideo(id=video_id, width=854,\n",
        "                      height=480, fs=1, rel=0)\n",
        "print(f'Video available at https://youtube.com/watch?v={video_id}')\n",
        "\n",
        "display(video)"
      ],
      "metadata": {
        "id": "PfUMJesKojui",
        "colab": {
          "base_uri": "https://localhost:8080/",
          "height": 519
        },
        "cellView": "form",
        "outputId": "8e6ab925-c48d-4d25-8abd-b8c85e1b4261"
      },
      "execution_count": null,
      "outputs": [
        {
          "output_type": "stream",
          "name": "stdout",
          "text": [
            "Video available at https://youtube.com/watch?v=oAV1oO1Flwk\n"
          ]
        },
        {
          "output_type": "display_data",
          "data": {
            "text/plain": [
              "<IPython.lib.display.YouTubeVideo at 0x7fc1aa128ac0>"
            ],
            "text/html": [
              "\n",
              "        <iframe\n",
              "            width=\"854\"\n",
              "            height=\"480\"\n",
              "            src=\"https://www.youtube.com/embed/oAV1oO1Flwk?fs=1&rel=0\"\n",
              "            frameborder=\"0\"\n",
              "            allowfullscreen\n",
              "            \n",
              "        ></iframe>\n",
              "        "
            ]
          },
          "metadata": {}
        }
      ]
    },
    {
      "cell_type": "markdown",
      "source": [
        "## Interactive Exercise: Putting it into practice\n",
        "\n",
        "For the code below, identify what makes it less readable and then try to update the code to fix this."
      ],
      "metadata": {
        "id": "dKVisiGF6DMu"
      }
    },
    {
      "cell_type": "code",
      "source": [
        "prior_password = 'ilikedogs'\n",
        "password = 'ilovedogsalot'\n",
        "\n",
        "MIN_PASSWORD_LENGTH = 12\n",
        "\n",
        "# Check if password is good to use\n",
        "\n",
        "has_letters = checks_for_letters(password)\n",
        "has_numbers = checks_for_numbers(password)\n",
        "\n",
        "if isinstance(password, str):\n",
        "    if len(password)>=MIN_PASSWORD_LENGTH:\n",
        "        if password != prior_password:\n",
        "            if has_letters and has_numbers:\n",
        "               print('Password is great')\n",
        "            else:\n",
        "                print('Not usable: needs both letters and numbers')\n",
        "        else:\n",
        "            print('Not usable: password is same as previous one')\n",
        "    else:\n",
        "        print('Not usable: password is too short')\n",
        "else:\n",
        "    print('Not usable: password is not a string')"
      ],
      "metadata": {
        "id": "lbFvcZ2xj4o9"
      },
      "execution_count": null,
      "outputs": []
    },
    {
      "cell_type": "markdown",
      "source": [
        "<details>\n",
        "<summary> <font color='blue'>Click here for solution explanation </font></summary>\n",
        "\n",
        "\n",
        "```\n",
        "prior_password = 'ilikedogs'\n",
        "password = 'ilovedogsalot'\n",
        "\n",
        "MIN_PASSWORD_LENGTH = 12\n",
        "\n",
        "# Check if password is good to use\n",
        "has_letters = checks_for_letters(password)\n",
        "has_numbers = checks_for_numbers(password)\n",
        "\n",
        "if not isinstance(password, str):\n",
        "    print('Not usable: password is not a string')\n",
        "elif len(password) < MIN_PASSWORD_LENGTH:\n",
        "    print('Not usable: password is too short')\n",
        "elif password == prior_password:\n",
        "    print('Not usable: password is same as previous one')\n",
        "elif not has_letters and not has_numbers:\n",
        "    print('Not usable: needs both letters and numbers')\n",
        "else:\n",
        "    print('Password is great')\n",
        "```\n",
        "</details>"
      ],
      "metadata": {
        "id": "jqtlKym3qbCX"
      }
    },
    {
      "cell_type": "markdown",
      "source": [
        "## Recap\n",
        "\n",
        "**KEEP IT SHORT & SIMPLE**\n",
        "\n",
        "- Keep each line of code short\n",
        "- Avoid overly clever code (prioritize readability over minimizing lines of code)\n",
        "- Avoid overly nested code\n",
        "\n",
        "\n",
        "\n"
      ],
      "metadata": {
        "id": "RVshX92iQQ_l"
      }
    }
  ]
}