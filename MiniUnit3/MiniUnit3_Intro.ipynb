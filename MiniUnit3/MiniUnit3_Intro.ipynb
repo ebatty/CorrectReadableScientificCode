{
  "nbformat": 4,
  "nbformat_minor": 0,
  "metadata": {
    "colab": {
      "provenance": [],
      "authorship_tag": "ABX9TyO/fJ9+j4vp2NY5onAI9hSv"
    },
    "kernelspec": {
      "name": "python3",
      "display_name": "Python 3"
    },
    "language_info": {
      "name": "python"
    }
  },
  "cells": [
    {
      "cell_type": "markdown",
      "source": [
        "# Intro\n",
        "\n",
        "In this mini-unit, you'll learn how to write clear function, and be motivated to do so!"
      ],
      "metadata": {
        "id": "06M1ELyMk_nF"
      }
    },
    {
      "cell_type": "markdown",
      "source": [
        "## Brainstorming Exercise\n",
        "\n",
        "*Might remove this if the mini-unit is too long*\n",
        "\n",
        "Please reflect on the following questions one at a time. If completing this with others, please take a few minutes to brainstorm by yourselves for each question and then discuss.\n",
        "\n",
        "- What are some advantages of using functions in code?\n",
        "- Any initial thoughts as to general practices that might ensure each function is clear and useful? No worries if not - you'll learn about this in this mini-unit!\n",
        "\n",
        "<textarea name=\"comments\" id=\"comments\">\n",
        "...\n",
        "</textarea><br />\n",
        "<input type=\"submit\" value=\"Submit\" />"
      ],
      "metadata": {
        "id": "kUpALKfOlk-v"
      }
    },
    {
      "cell_type": "code",
      "source": [],
      "metadata": {
        "id": "Eh6ps4-zrgLW"
      },
      "execution_count": null,
      "outputs": []
    },
    {
      "cell_type": "markdown",
      "source": [
        "## Video\n",
        "\n",
        "Overview: Voice-over with handwritten notes. Purpose is to motivate using functions\n",
        "\n",
        "\n",
        "Script:\n",
        "\n",
        "Functional programming is type of programming where you structure code around functions. I personally experienced a huge jump in the usability of my code when I moved from primarily using long scripts to prioritizing functions. There are a couple big advantages of using functions. One is that you are ensuring you can re-use your own code more easily! Instead of copying and pasting snippets of code if you're doing the same computation in different parts of your code, you can call the same function multiple times. This also ensures you're following a key coding principle: DRY, which means don't repeat yourself.\n",
        "\n",
        "Functions also can make the flow of your code clearer. Compare this long script to code that performs the same thing but that calls functions. It's much quicker to read the shorter script that calls functions. You can always go look in those functions if you want to see all the details, but often you won't need to as you can tell what it is doing from the name!\n",
        "\n",
        "Using functions also allows you to better test your code. You can test that each function is correct and does what it should, which is more manageable than testing a whole long script. We'll return to this idea in the later mini-unit on testing code."
      ],
      "metadata": {
        "id": "wAG8F-_vnuW3"
      }
    },
    {
      "cell_type": "code",
      "source": [],
      "metadata": {
        "id": "NjraG3TLltS9"
      },
      "execution_count": null,
      "outputs": []
    },
    {
      "cell_type": "markdown",
      "source": [
        "So, now you're motivated to write some functions in your code! But how do you make sure your function is a good function? What is a good function? Luckily, there are some guidelines to follow around this! Click on each cleaning product below to learn about a best practice to ensure clean functions."
      ],
      "metadata": {
        "id": "6ncvfHuap8a8"
      }
    },
    {
      "cell_type": "markdown",
      "source": [
        "Bucket title \"Write good functions\" with cleaning products sticking out of it. You can click on each one to open up one of the following pages. If we can't do this production-wise, they can just go through the following pages one-by-one."
      ],
      "metadata": {
        "id": "DvwymYAeq3gX"
      }
    }
  ]
}